{
 "cells": [
  {
   "cell_type": "code",
   "execution_count": 1,
   "metadata": {
    "dotnet_interactive": {
     "language": "pwsh"
    },
    "vscode": {
     "languageId": "dotnet-interactive.pwsh"
    }
   },
   "outputs": [
    {
     "name": "stdout",
     "output_type": "stream",
     "text": [
      "MSBuild version 17.3.2+561848881 for .NET\r\n",
      "  Determining projects to restore...\r\n",
      "  Restored C:\\Dev\\Mermish\\Mermish\\Mermish.fsproj (in 94 ms).\r\n"
     ]
    }
   ],
   "source": [
    "# Clear any older versions of this extension package from your NuGet cache\n",
    "rm ~/.nuget/packages/Mermish -Force -Recurse -ErrorAction Ignore\n",
    "\n",
    "# Pack up the NuGet package. \n",
    "dotnet pack ..\\Mermish.sln /p:PackageVersion=0.0.0-dev --force\n",
    "\n",
    "Select-String -Path ~/.packagemanagement/nuget/Cache/*.* -pattern mermish/0.0.0-dev\n",
    "| Select-Object -Property path\n",
    "| Sort-Object -Property path -Unique\n",
    "| Remove-Item -Force"
   ]
  },
  {
   "cell_type": "code",
   "execution_count": 2,
   "metadata": {
    "dotnet_interactive": {
     "language": "fsharp"
    },
    "vscode": {
     "languageId": "dotnet-interactive.fsharp"
    }
   },
   "outputs": [
    {
     "data": {
      "text/html": [
       "<div><div><strong>Restore sources</strong><ul><li><span> C:/Dev/Mermish/Mermish/bin/Debug</span></li></ul></div><div></div><div><strong>Installed Packages</strong><ul><li><span>Mermish, 0.0.0-dev</span></li></ul></div></div>"
      ]
     },
     "metadata": {},
     "output_type": "display_data"
    },
    {
     "data": {
      "text/markdown": [
       "Loading extension script from `C:\\Users\\dave\\.nuget\\packages\\mermish\\0.0.0-dev\\interactive-extensions\\dotnet\\extension.dib`"
      ]
     },
     "metadata": {},
     "output_type": "display_data"
    },
    {
     "data": {
      "text/markdown": [
       "Mermish formatter added from extension script."
      ]
     },
     "metadata": {},
     "output_type": "display_data"
    }
   ],
   "source": [
    "#i \"nuget: C:/Dev/Mermish/Mermish/bin/Debug\"\n",
    "#r \"nuget: Mermish, 0.0.0-dev\"\n",
    "\n",
    "open Mermish\n"
   ]
  },
  {
   "cell_type": "code",
   "execution_count": 3,
   "metadata": {
    "dotnet_interactive": {
     "language": "fsharp"
    },
    "vscode": {
     "languageId": "dotnet-interactive.fsharp"
    }
   },
   "outputs": [
    {
     "data": {
      "text/plain": [
       "pie showData\n",
       "    title Testing\n",
       "    \"first\" : 200\n",
       "    \"second\" : 300\n",
       "    \"third\" : 100"
      ]
     },
     "metadata": {},
     "output_type": "display_data"
    }
   ],
   "source": [
    "let pieChart = \n",
    "    Mermaid.PieChart\n",
    "    |> PieChart.WithTitle \"Testing\"\n",
    "    |> PieChart.AppendData [ \"first\", 200 ; \"second\", 300 ]\n",
    "    |> PieChart.ShowData\n",
    "    |> PieChart.AppendData [ \"third\", 100 ]\n",
    "\n",
    "Mermaid.SyntaxFor pieChart"
   ]
  },
  {
   "cell_type": "code",
   "execution_count": 4,
   "metadata": {
    "dotnet_interactive": {
     "language": "fsharp"
    },
    "vscode": {
     "languageId": "dotnet-interactive.fsharp"
    }
   },
   "outputs": [
    {
     "data": {
      "text/html": [
       "\r\n",
       "<!-- Begin Mermish Content -->\r\n",
       "<div style=\"background-color:white\">\r\n",
       "    <script type=\"text/javascript\">\r\n",
       "        renderMermish_5f403fffd3674543b2bc43d5ad09cb0a = () => {\r\n",
       "            (require.config({ 'paths': { 'context': 'mermish', 'mermaidUri' : 'https://cdn.jsdelivr.net/npm/mermaid@9.1.3/dist/mermaid.min' }}) || require)(['mermaidUri'], (mermaid) => {\r\n",
       "                let renderTarget = document.getElementById('mermishTarget_5f403fffd3674543b2bc43d5ad09cb0a');\r\n",
       "                mermaid.mermaidAPI.render( \r\n",
       "                    'mermishScratch_5f403fffd3674543b2bc43d5ad09cb0a', \r\n",
       "                    `pie showData\n",
       "    title Testing\n",
       "    \"first\" : 200\n",
       "    \"second\" : 300\n",
       "    \"third\" : 100`, \r\n",
       "                    g => { renderTarget.innerHTML = g });\r\n",
       "            },\r\n",
       "            (error) => { console.log(error); });\r\n",
       "        }\r\n",
       "\r\n",
       "        if ((typeof(require) !==  typeof(Function)) || (typeof(require.config) !== typeof(Function))) {\r\n",
       "            let require_script = document.createElement('script');\r\n",
       "            require_script.setAttribute('src', 'https://cdnjs.cloudflare.com/ajax/libs/require.js/2.3.6/require.min.js');\r\n",
       "            require_script.setAttribute('type', 'text/javascript');\r\n",
       "            require_script.onload = function() { renderMermish_5f403fffd3674543b2bc43d5ad09cb0a(); };\r\n",
       "            document.getElementsByTagName('head')[0].appendChild(require_script);\r\n",
       "        }\r\n",
       "        else {\r\n",
       "            renderMermish_5f403fffd3674543b2bc43d5ad09cb0a();\r\n",
       "        }\r\n",
       "    </script>\r\n",
       "    <div id=\"mermishTarget_5f403fffd3674543b2bc43d5ad09cb0a\"></div>\r\n",
       "</div>\r\n",
       "<!-- End Mermish Content -->\r\n"
      ]
     },
     "metadata": {},
     "output_type": "display_data"
    }
   ],
   "source": [
    "pieChart"
   ]
  },
  {
   "cell_type": "code",
   "execution_count": 5,
   "metadata": {
    "dotnet_interactive": {
     "language": "fsharp"
    },
    "vscode": {
     "languageId": "dotnet-interactive.fsharp"
    }
   },
   "outputs": [
    {
     "data": {
      "text/html": [
       "\r\n",
       "<!-- Begin Mermish Content -->\r\n",
       "<div style=\"background-color:white\">\r\n",
       "    <script type=\"text/javascript\">\r\n",
       "        renderMermish_2cf44332f5b74db095b1f13d5b444027 = () => {\r\n",
       "            (require.config({ 'paths': { 'context': 'mermish', 'mermaidUri' : 'https://cdn.jsdelivr.net/npm/mermaid@9.1.3/dist/mermaid.min' }}) || require)(['mermaidUri'], (mermaid) => {\r\n",
       "                let renderTarget = document.getElementById('mermishTarget_2cf44332f5b74db095b1f13d5b444027');\r\n",
       "                mermaid.mermaidAPI.render( \r\n",
       "                    'mermishScratch_2cf44332f5b74db095b1f13d5b444027', \r\n",
       "                    `\n",
       "pie\n",
       "title Manual\n",
       "\"Actual\" : 2\n",
       "\"Manual\" : 1\n",
       "`, \r\n",
       "                    g => { renderTarget.innerHTML = g });\r\n",
       "            },\r\n",
       "            (error) => { console.log(error); });\r\n",
       "        }\r\n",
       "\r\n",
       "        if ((typeof(require) !==  typeof(Function)) || (typeof(require.config) !== typeof(Function))) {\r\n",
       "            let require_script = document.createElement('script');\r\n",
       "            require_script.setAttribute('src', 'https://cdnjs.cloudflare.com/ajax/libs/require.js/2.3.6/require.min.js');\r\n",
       "            require_script.setAttribute('type', 'text/javascript');\r\n",
       "            require_script.onload = function() { renderMermish_2cf44332f5b74db095b1f13d5b444027(); };\r\n",
       "            document.getElementsByTagName('head')[0].appendChild(require_script);\r\n",
       "        }\r\n",
       "        else {\r\n",
       "            renderMermish_2cf44332f5b74db095b1f13d5b444027();\r\n",
       "        }\r\n",
       "    </script>\r\n",
       "    <div id=\"mermishTarget_2cf44332f5b74db095b1f13d5b444027\"></div>\r\n",
       "</div>\r\n",
       "<!-- End Mermish Content -->\r\n"
      ]
     },
     "metadata": {},
     "output_type": "display_data"
    }
   ],
   "source": [
    "Mermaid.ManualChart \"\"\"\n",
    "pie\n",
    "title Manual\n",
    "\"Actual\" : 2\n",
    "\"Manual\" : 1\n",
    "\"\"\""
   ]
  }
 ],
 "metadata": {
  "kernelspec": {
   "display_name": ".NET (C#)",
   "language": "C#",
   "name": ".net-csharp"
  },
  "language_info": {
   "file_extension": ".cs",
   "mimetype": "text/x-csharp",
   "name": "C#",
   "pygments_lexer": "csharp",
   "version": "9.0"
  },
  "vscode": {
   "interpreter": {
    "hash": "96ea463da8b265c951058de84b9645eca36b660a1a779c7b0eff4941594f7f98"
   }
  }
 },
 "nbformat": 4,
 "nbformat_minor": 2
}
