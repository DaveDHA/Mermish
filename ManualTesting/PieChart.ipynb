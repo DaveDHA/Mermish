{
 "cells": [
  {
   "cell_type": "code",
   "execution_count": 1,
   "metadata": {
    "dotnet_interactive": {
     "language": "pwsh"
    },
    "vscode": {
     "languageId": "dotnet-interactive.pwsh"
    }
   },
   "outputs": [
    {
     "name": "stdout",
     "output_type": "stream",
     "text": [
      "MSBuild version 17.3.2+561848881 for .NET\r\n",
      "  Determining projects to restore...\r\n",
      "  Restored C:\\Dev\\Mermish\\Mermish\\Mermish.fsproj (in 91 ms).\r\n",
      "  Restored C:\\Dev\\Mermish\\Mermish.Testing.Fs\\Mermish.Testing.Fs.fsproj (in 190 ms).\r\n",
      "  Successfully created package 'C:\\Dev\\Mermish\\Mermish\\bin\\Debug\\Mermish.0.0.0-dev.nupkg'.\r\n"
     ]
    }
   ],
   "source": [
    "# Clear any older versions of this extension package from your NuGet cache\n",
    "rm ~/.nuget/packages/Mermish -Force -Recurse -ErrorAction Ignore\n",
    "\n",
    "# Pack up the NuGet package. \n",
    "dotnet pack ..\\Mermish.sln /p:PackageVersion=0.0.0-dev --force\n",
    "\n",
    "#Select-String -Path ~/.packagemanagement/nuget/Cache/*.* -pattern mermish/0.0.0-dev\n",
    "#| Select-Object -Property path\n",
    "#| Sort-Object -Property path -Unique\n",
    "#| Remove-Item -Force"
   ]
  },
  {
   "cell_type": "code",
   "execution_count": 2,
   "metadata": {
    "dotnet_interactive": {
     "language": "fsharp"
    },
    "vscode": {
     "languageId": "dotnet-interactive.fsharp"
    }
   },
   "outputs": [
    {
     "data": {
      "text/html": [
       "<div><div><strong>Restore sources</strong><ul><li><span> C:/Dev/Mermish/Mermish/bin/Debug</span></li></ul></div><div></div><div><strong>Installed Packages</strong><ul><li><span>Mermish, 0.0.0-dev</span></li></ul></div></div>"
      ]
     },
     "metadata": {},
     "output_type": "display_data"
    },
    {
     "data": {
      "text/markdown": [
       "Loading extension script from `C:\\Users\\dave\\.nuget\\packages\\mermish\\0.0.0-dev\\interactive-extensions\\dotnet\\extension.dib`"
      ]
     },
     "metadata": {},
     "output_type": "display_data"
    },
    {
     "data": {
      "text/markdown": [
       "Mermish formatter added from extension script."
      ]
     },
     "metadata": {},
     "output_type": "display_data"
    }
   ],
   "source": [
    "// Note: If this fails with \"Access to the path 'Mermish.dll' is denied, just close and re-open the notebook.\n",
    "// This will happen any time you run the first cell (to clear the NuGet cache and rebuild the package) after having run this cell.\n",
    "// This can also happen if you run the first cell while another notebook is open referencing the dev package\n",
    "\n",
    "#i \"nuget: C:/Dev/Mermish/Mermish/bin/Debug\"\n",
    "#r \"nuget: Mermish, 0.0.0-dev\"\n",
    "\n",
    "open Mermish\n"
   ]
  },
  {
   "cell_type": "code",
   "execution_count": 3,
   "metadata": {
    "dotnet_interactive": {
     "language": "fsharp"
    },
    "vscode": {
     "languageId": "dotnet-interactive.fsharp"
    }
   },
   "outputs": [
    {
     "name": "stdout",
     "output_type": "stream",
     "text": [
      "pie showData\n",
      "    title Animals in the Zoo\n",
      "    \"Zookeeper\" : 7\n",
      "    \"Lion\" : 4\n",
      "    \"Tiger\" : 3\n",
      "    \"Bear\" : 6\r\n"
     ]
    }
   ],
   "source": [
    "type Animal = { Species : string ; Population : int }\n",
    "let zooAnimals = [\n",
    "    { Species = \"Lion\" ; Population = 4 }\n",
    "    { Species = \"Tiger\" ; Population = 3 }\n",
    "    { Species = \"Bear\" ; Population = 6 }\n",
    "]\n",
    "\n",
    "let zooChart = \n",
    "    Mermaid.PieChart [\n",
    "        Title \"Animals in the Zoo\"\n",
    "        ShowData\n",
    "        PieSlice (\"Zookeeper\", 7)\n",
    "        PieSlices (zooAnimals |> Seq.map (fun a -> a.Species, a.Population))\n",
    "    ]\n",
    "    \n",
    "printfn \"%A\" zooChart"
   ]
  },
  {
   "cell_type": "code",
   "execution_count": 4,
   "metadata": {
    "dotnet_interactive": {
     "language": "fsharp"
    },
    "vscode": {
     "languageId": "dotnet-interactive.fsharp"
    }
   },
   "outputs": [
    {
     "data": {
      "text/plain": [
       "pie showData\n",
       "    title Animals in the Zoo\n",
       "    \"Zookeeper\" : 7\n",
       "    \"Lion\" : 4\n",
       "    \"Tiger\" : 3\n",
       "    \"Bear\" : 6"
      ]
     },
     "metadata": {},
     "output_type": "display_data"
    }
   ],
   "source": [
    "zooChart.ToString()"
   ]
  },
  {
   "cell_type": "code",
   "execution_count": 5,
   "metadata": {
    "dotnet_interactive": {
     "language": "fsharp"
    },
    "vscode": {
     "languageId": "dotnet-interactive.fsharp"
    }
   },
   "outputs": [
    {
     "data": {
      "text/html": [
       "\r\n",
       "<!-- Begin Mermish Content -->\r\n",
       "<div style=\"background-color:white\">\r\n",
       "    <script type=\"text/javascript\">\r\n",
       "        renderMermish_a17739b7c38a4b3d858ece8714cd87ad = () => {\r\n",
       "            (require.config({ 'paths': { 'context': 'mermish', 'mermaidUri' : 'https://cdn.jsdelivr.net/npm/mermaid@9.1.7/dist/mermaid.min' }}) || require)(['mermaidUri'], (mermaid) => {\r\n",
       "                let renderTarget = document.getElementById('mermishTarget_a17739b7c38a4b3d858ece8714cd87ad');\r\n",
       "                mermaid.mermaidAPI.render( \r\n",
       "                    'mermishScratch_a17739b7c38a4b3d858ece8714cd87ad', \r\n",
       "                    `pie showData\n",
       "    title Animals in the Zoo\n",
       "    \"Zookeeper\" : 7\n",
       "    \"Lion\" : 4\n",
       "    \"Tiger\" : 3\n",
       "    \"Bear\" : 6`, \r\n",
       "                    g => { renderTarget.innerHTML = g });\r\n",
       "            },\r\n",
       "            (error) => { console.log(error); });\r\n",
       "        }\r\n",
       "\r\n",
       "        if ((typeof(require) !==  typeof(Function)) || (typeof(require.config) !== typeof(Function))) {\r\n",
       "            let require_script = document.createElement('script');\r\n",
       "            require_script.setAttribute('src', 'https://cdnjs.cloudflare.com/ajax/libs/require.js/2.3.6/require.min.js');\r\n",
       "            require_script.setAttribute('type', 'text/javascript');\r\n",
       "            require_script.onload = function() { renderMermish_a17739b7c38a4b3d858ece8714cd87ad(); };\r\n",
       "            document.getElementsByTagName('head')[0].appendChild(require_script);\r\n",
       "        }\r\n",
       "        else {\r\n",
       "            renderMermish_a17739b7c38a4b3d858ece8714cd87ad();\r\n",
       "        }\r\n",
       "    </script>\r\n",
       "    <div id=\"mermishTarget_a17739b7c38a4b3d858ece8714cd87ad\"></div>\r\n",
       "</div>\r\n",
       "<!-- End Mermish Content -->\r\n"
      ]
     },
     "metadata": {},
     "output_type": "display_data"
    }
   ],
   "source": [
    "zooChart"
   ]
  },
  {
   "cell_type": "code",
   "execution_count": 6,
   "metadata": {
    "dotnet_interactive": {
     "language": "fsharp"
    },
    "vscode": {
     "languageId": "dotnet-interactive.fsharp"
    }
   },
   "outputs": [
    {
     "data": {
      "text/html": [
       "<!-- Mermish Debug -->\r\n",
       "<pre style='margin-bottom: 10px'>\r\n",
       "pie\n",
       "    title Animals and Fish in the Zoo\n",
       "    &quot;Zookeeper&quot; : 7\n",
       "    &quot;Lion&quot; : 4\n",
       "    &quot;Tiger&quot; : 3\n",
       "    &quot;Bear&quot; : 6\n",
       "    &quot;Fish&quot; : 14</pre>\r\n",
       "<!-- End Mermish Debug -->\r\n",
       "\r\n",
       "<!-- Begin Mermish Content -->\r\n",
       "<div style=\"background-color:white\">\r\n",
       "    <script type=\"text/javascript\">\r\n",
       "        renderMermish_4fab9fdb6f974fa4b05c2258373dd64a = () => {\r\n",
       "            (require.config({ 'paths': { 'context': 'mermish', 'mermaidUri' : 'https://cdn.jsdelivr.net/npm/mermaid@9.1.7/dist/mermaid.min' }}) || require)(['mermaidUri'], (mermaid) => {\r\n",
       "                let renderTarget = document.getElementById('mermishTarget_4fab9fdb6f974fa4b05c2258373dd64a');\r\n",
       "                mermaid.mermaidAPI.render( \r\n",
       "                    'mermishScratch_4fab9fdb6f974fa4b05c2258373dd64a', \r\n",
       "                    `pie\n",
       "    title Animals and Fish in the Zoo\n",
       "    \"Zookeeper\" : 7\n",
       "    \"Lion\" : 4\n",
       "    \"Tiger\" : 3\n",
       "    \"Bear\" : 6\n",
       "    \"Fish\" : 14`, \r\n",
       "                    g => { renderTarget.innerHTML = g });\r\n",
       "            },\r\n",
       "            (error) => { console.log(error); });\r\n",
       "        }\r\n",
       "\r\n",
       "        if ((typeof(require) !==  typeof(Function)) || (typeof(require.config) !== typeof(Function))) {\r\n",
       "            let require_script = document.createElement('script');\r\n",
       "            require_script.setAttribute('src', 'https://cdnjs.cloudflare.com/ajax/libs/require.js/2.3.6/require.min.js');\r\n",
       "            require_script.setAttribute('type', 'text/javascript');\r\n",
       "            require_script.onload = function() { renderMermish_4fab9fdb6f974fa4b05c2258373dd64a(); };\r\n",
       "            document.getElementsByTagName('head')[0].appendChild(require_script);\r\n",
       "        }\r\n",
       "        else {\r\n",
       "            renderMermish_4fab9fdb6f974fa4b05c2258373dd64a();\r\n",
       "        }\r\n",
       "    </script>\r\n",
       "    <div id=\"mermishTarget_4fab9fdb6f974fa4b05c2258373dd64a\"></div>\r\n",
       "</div>\r\n",
       "<!-- End Mermish Content -->\r\n"
      ]
     },
     "metadata": {},
     "output_type": "display_data"
    }
   ],
   "source": [
    "zooChart\n",
    "|> PieChart.AddAll [\n",
    "    Title \"Animals and Fish in the Zoo\"\n",
    "    HideData\n",
    "    PieSlice (\"Fish\", 14)\n",
    "]\n",
    "|> Mermaid.InteractiveDebuggable"
   ]
  },
  {
   "cell_type": "code",
   "execution_count": 7,
   "metadata": {
    "dotnet_interactive": {
     "language": "fsharp"
    },
    "vscode": {
     "languageId": "dotnet-interactive.fsharp"
    }
   },
   "outputs": [
    {
     "data": {
      "text/html": [
       "<!-- Mermish Debug -->\r\n",
       "<pre style='margin-bottom: 10px'>\r\n",
       "pie showData\n",
       "    title Animals in the Zoo (not human)\n",
       "    &quot;Lion&quot; : 4\n",
       "    &quot;Tiger&quot; : 3\n",
       "    &quot;Bear&quot; : 6</pre>\r\n",
       "<!-- End Mermish Debug -->\r\n",
       "\r\n",
       "<!-- Begin Mermish Content -->\r\n",
       "<div style=\"background-color:white\">\r\n",
       "    <script type=\"text/javascript\">\r\n",
       "        renderMermish_e0cc474cec804e07a995f36f23a68b34 = () => {\r\n",
       "            (require.config({ 'paths': { 'context': 'mermish', 'mermaidUri' : 'https://cdn.jsdelivr.net/npm/mermaid@9.1.7/dist/mermaid.min' }}) || require)(['mermaidUri'], (mermaid) => {\r\n",
       "                let renderTarget = document.getElementById('mermishTarget_e0cc474cec804e07a995f36f23a68b34');\r\n",
       "                mermaid.mermaidAPI.render( \r\n",
       "                    'mermishScratch_e0cc474cec804e07a995f36f23a68b34', \r\n",
       "                    `pie showData\n",
       "    title Animals in the Zoo (not human)\n",
       "    \"Lion\" : 4\n",
       "    \"Tiger\" : 3\n",
       "    \"Bear\" : 6`, \r\n",
       "                    g => { renderTarget.innerHTML = g });\r\n",
       "            },\r\n",
       "            (error) => { console.log(error); });\r\n",
       "        }\r\n",
       "\r\n",
       "        if ((typeof(require) !==  typeof(Function)) || (typeof(require.config) !== typeof(Function))) {\r\n",
       "            let require_script = document.createElement('script');\r\n",
       "            require_script.setAttribute('src', 'https://cdnjs.cloudflare.com/ajax/libs/require.js/2.3.6/require.min.js');\r\n",
       "            require_script.setAttribute('type', 'text/javascript');\r\n",
       "            require_script.onload = function() { renderMermish_e0cc474cec804e07a995f36f23a68b34(); };\r\n",
       "            document.getElementsByTagName('head')[0].appendChild(require_script);\r\n",
       "        }\r\n",
       "        else {\r\n",
       "            renderMermish_e0cc474cec804e07a995f36f23a68b34();\r\n",
       "        }\r\n",
       "    </script>\r\n",
       "    <div id=\"mermishTarget_e0cc474cec804e07a995f36f23a68b34\"></div>\r\n",
       "</div>\r\n",
       "<!-- End Mermish Content -->\r\n"
      ]
     },
     "metadata": {},
     "output_type": "display_data"
    }
   ],
   "source": [
    "zooChart \n",
    "|> PieChart.RemoveSlice \"Zookeeper\"\n",
    "|> PieChart.Add (Title \"Animals in the Zoo (not human)\")\n",
    "|> Mermaid.InteractiveDebuggable"
   ]
  },
  {
   "cell_type": "code",
   "execution_count": 8,
   "metadata": {
    "dotnet_interactive": {
     "language": "fsharp"
    },
    "vscode": {
     "languageId": "dotnet-interactive.fsharp"
    }
   },
   "outputs": [
    {
     "data": {
      "text/html": [
       "<!-- Mermish Debug -->\r\n",
       "<pre style='margin-bottom: 10px'>\r\n",
       "pie showData\n",
       "    title Testing: Colon\n",
       "    &quot;Category: 1&quot; : 25.6\n",
       "    &quot;Tiger::Animal&quot; : 32.8</pre>\r\n",
       "<!-- End Mermish Debug -->\r\n",
       "\r\n",
       "<!-- Begin Mermish Content -->\r\n",
       "<div style=\"background-color:white\">\r\n",
       "    <script type=\"text/javascript\">\r\n",
       "        renderMermish_f987f041254f4393800ff4b8937943e6 = () => {\r\n",
       "            (require.config({ 'paths': { 'context': 'mermish', 'mermaidUri' : 'https://cdn.jsdelivr.net/npm/mermaid@9.1.7/dist/mermaid.min' }}) || require)(['mermaidUri'], (mermaid) => {\r\n",
       "                let renderTarget = document.getElementById('mermishTarget_f987f041254f4393800ff4b8937943e6');\r\n",
       "                mermaid.mermaidAPI.render( \r\n",
       "                    'mermishScratch_f987f041254f4393800ff4b8937943e6', \r\n",
       "                    `pie showData\n",
       "    title Testing: Colon\n",
       "    \"Category: 1\" : 25.6\n",
       "    \"Tiger::Animal\" : 32.8`, \r\n",
       "                    g => { renderTarget.innerHTML = g });\r\n",
       "            },\r\n",
       "            (error) => { console.log(error); });\r\n",
       "        }\r\n",
       "\r\n",
       "        if ((typeof(require) !==  typeof(Function)) || (typeof(require.config) !== typeof(Function))) {\r\n",
       "            let require_script = document.createElement('script');\r\n",
       "            require_script.setAttribute('src', 'https://cdnjs.cloudflare.com/ajax/libs/require.js/2.3.6/require.min.js');\r\n",
       "            require_script.setAttribute('type', 'text/javascript');\r\n",
       "            require_script.onload = function() { renderMermish_f987f041254f4393800ff4b8937943e6(); };\r\n",
       "            document.getElementsByTagName('head')[0].appendChild(require_script);\r\n",
       "        }\r\n",
       "        else {\r\n",
       "            renderMermish_f987f041254f4393800ff4b8937943e6();\r\n",
       "        }\r\n",
       "    </script>\r\n",
       "    <div id=\"mermishTarget_f987f041254f4393800ff4b8937943e6\"></div>\r\n",
       "</div>\r\n",
       "<!-- End Mermish Content -->\r\n"
      ]
     },
     "metadata": {},
     "output_type": "display_data"
    }
   ],
   "source": [
    "Mermaid.PieChart [\n",
    "    Title \"Testing: Colon\"\n",
    "    ShowData\n",
    "    PieSlice (\"Category: 1\", 25.6)\n",
    "    PieSlice (\"Tiger::Animal\", 32.8)\n",
    "]\n",
    "|> Mermaid.InteractiveDebuggable"
   ]
  },
  {
   "cell_type": "code",
   "execution_count": 19,
   "metadata": {
    "dotnet_interactive": {
     "language": "fsharp"
    },
    "vscode": {
     "languageId": "dotnet-interactive.fsharp"
    }
   },
   "outputs": [
    {
     "data": {
      "text/html": [
       "<!-- Mermish Debug -->\r\n",
       "<pre style='margin-bottom: 10px'>\r\n",
       "pie\n",
       "    title From Computation Expression\n",
       "    &quot;Item 1&quot; : 45\n",
       "    &quot;Item 2&quot; : 28\n",
       "    &quot;Item 3&quot; : 32\n",
       "    &quot;Item-1&quot; : 5\n",
       "    &quot;Item-2&quot; : 5\n",
       "    &quot;Item-3&quot; : 5\n",
       "    &quot;Item-4&quot; : 5\n",
       "    &quot;Item-5&quot; : 5</pre>\r\n",
       "<!-- End Mermish Debug -->\r\n",
       "\r\n",
       "<!-- Begin Mermish Content -->\r\n",
       "<div style=\"background-color:white\">\r\n",
       "    <script type=\"text/javascript\">\r\n",
       "        renderMermish_ee93d07da8cd40a49cdabe722069ea6a = () => {\r\n",
       "            (require.config({ 'paths': { 'context': 'mermish', 'mermaidUri' : 'https://cdn.jsdelivr.net/npm/mermaid@9.1.7/dist/mermaid.min' }}) || require)(['mermaidUri'], (mermaid) => {\r\n",
       "                let renderTarget = document.getElementById('mermishTarget_ee93d07da8cd40a49cdabe722069ea6a');\r\n",
       "                mermaid.mermaidAPI.render( \r\n",
       "                    'mermishScratch_ee93d07da8cd40a49cdabe722069ea6a', \r\n",
       "                    `pie\n",
       "    title From Computation Expression\n",
       "    \"Item 1\" : 45\n",
       "    \"Item 2\" : 28\n",
       "    \"Item 3\" : 32\n",
       "    \"Item-1\" : 5\n",
       "    \"Item-2\" : 5\n",
       "    \"Item-3\" : 5\n",
       "    \"Item-4\" : 5\n",
       "    \"Item-5\" : 5`, \r\n",
       "                    g => { renderTarget.innerHTML = g });\r\n",
       "            },\r\n",
       "            (error) => { console.log(error); });\r\n",
       "        }\r\n",
       "\r\n",
       "        if ((typeof(require) !==  typeof(Function)) || (typeof(require.config) !== typeof(Function))) {\r\n",
       "            let require_script = document.createElement('script');\r\n",
       "            require_script.setAttribute('src', 'https://cdnjs.cloudflare.com/ajax/libs/require.js/2.3.6/require.min.js');\r\n",
       "            require_script.setAttribute('type', 'text/javascript');\r\n",
       "            require_script.onload = function() { renderMermish_ee93d07da8cd40a49cdabe722069ea6a(); };\r\n",
       "            document.getElementsByTagName('head')[0].appendChild(require_script);\r\n",
       "        }\r\n",
       "        else {\r\n",
       "            renderMermish_ee93d07da8cd40a49cdabe722069ea6a();\r\n",
       "        }\r\n",
       "    </script>\r\n",
       "    <div id=\"mermishTarget_ee93d07da8cd40a49cdabe722069ea6a\"></div>\r\n",
       "</div>\r\n",
       "<!-- End Mermish Content -->\r\n"
      ]
     },
     "metadata": {},
     "output_type": "display_data"
    }
   ],
   "source": [
    "pie.chart {\n",
    "    pie.title \"From Computation Expression\"    \n",
    "    pie.slice (\"Item 1\", 45)\n",
    "    pie.slice (\"Item 2\", 28)\n",
    "    pie.slice (\"Item 3\", 32)\n",
    "\n",
    "    for x = 1 to 5 do\n",
    "        pie.slice ($\"Item-{x}\", 5)\n",
    "}\n",
    "|> Mermaid.InteractiveDebuggable"
   ]
  },
  {
   "cell_type": "code",
   "execution_count": 10,
   "metadata": {
    "dotnet_interactive": {
     "language": "fsharp"
    },
    "vscode": {
     "languageId": "dotnet-interactive.fsharp"
    }
   },
   "outputs": [
    {
     "data": {
      "text/html": [
       "<!-- Mermish Debug -->\r\n",
       "<pre style='margin-bottom: 10px'>\r\n",
       "pie showData\n",
       "    title From Computation Expression\n",
       "    &quot;Item 1&quot; : 2.46\n",
       "    &quot;Item 2&quot; : 4.55\n",
       "    &quot;Item 3&quot; : 3.21</pre>\r\n",
       "<!-- End Mermish Debug -->\r\n",
       "\r\n",
       "<!-- Begin Mermish Content -->\r\n",
       "<div style=\"background-color:white\">\r\n",
       "    <script type=\"text/javascript\">\r\n",
       "        renderMermish_24a03e40d85a44f48d0bea80094770e4 = () => {\r\n",
       "            (require.config({ 'paths': { 'context': 'mermish', 'mermaidUri' : 'https://cdn.jsdelivr.net/npm/mermaid@9.1.7/dist/mermaid.min' }}) || require)(['mermaidUri'], (mermaid) => {\r\n",
       "                let renderTarget = document.getElementById('mermishTarget_24a03e40d85a44f48d0bea80094770e4');\r\n",
       "                mermaid.mermaidAPI.render( \r\n",
       "                    'mermishScratch_24a03e40d85a44f48d0bea80094770e4', \r\n",
       "                    `pie showData\n",
       "    title From Computation Expression\n",
       "    \"Item 1\" : 2.46\n",
       "    \"Item 2\" : 4.55\n",
       "    \"Item 3\" : 3.21`, \r\n",
       "                    g => { renderTarget.innerHTML = g });\r\n",
       "            },\r\n",
       "            (error) => { console.log(error); });\r\n",
       "        }\r\n",
       "\r\n",
       "        if ((typeof(require) !==  typeof(Function)) || (typeof(require.config) !== typeof(Function))) {\r\n",
       "            let require_script = document.createElement('script');\r\n",
       "            require_script.setAttribute('src', 'https://cdnjs.cloudflare.com/ajax/libs/require.js/2.3.6/require.min.js');\r\n",
       "            require_script.setAttribute('type', 'text/javascript');\r\n",
       "            require_script.onload = function() { renderMermish_24a03e40d85a44f48d0bea80094770e4(); };\r\n",
       "            document.getElementsByTagName('head')[0].appendChild(require_script);\r\n",
       "        }\r\n",
       "        else {\r\n",
       "            renderMermish_24a03e40d85a44f48d0bea80094770e4();\r\n",
       "        }\r\n",
       "    </script>\r\n",
       "    <div id=\"mermishTarget_24a03e40d85a44f48d0bea80094770e4\"></div>\r\n",
       "</div>\r\n",
       "<!-- End Mermish Content -->\r\n"
      ]
     },
     "metadata": {},
     "output_type": "display_data"
    }
   ],
   "source": [
    "pie.chart {\n",
    "    pie.title \"From Computation Expression\"\n",
    "    pie.showData\n",
    "    pie.slice (\"Item 1\", 2.458674321)\n",
    "    pie.slice (\"Item 2\", 4.549832154)\n",
    "    pie.slice (\"Item 3\", 3.2136548)\n",
    "}\n",
    "|> Mermaid.InteractiveDebuggable"
   ]
  },
  {
   "cell_type": "code",
   "execution_count": 17,
   "metadata": {
    "dotnet_interactive": {
     "language": "fsharp"
    },
    "vscode": {
     "languageId": "dotnet-interactive.fsharp"
    }
   },
   "outputs": [
    {
     "data": {
      "text/html": [
       "<!-- Mermish Debug -->\r\n",
       "<pre style='margin-bottom: 10px'>\r\n",
       "pie showData\n",
       "    title Random pie\n",
       "    &quot;Item 1&quot; : 1665756808\n",
       "    &quot;Item 2&quot; : 618336894\n",
       "    &quot;Item 3&quot; : 508566433\n",
       "    &quot;Item 4&quot; : 115187619\n",
       "    &quot;Item 5&quot; : 115135980\n",
       "    &quot;Item 6&quot; : 1869540350</pre>\r\n",
       "<!-- End Mermish Debug -->\r\n",
       "\r\n",
       "<!-- Begin Mermish Content -->\r\n",
       "<div style=\"background-color:white\">\r\n",
       "    <script type=\"text/javascript\">\r\n",
       "        renderMermish_6c88626208024fa8b9f4f58bcf8d281c = () => {\r\n",
       "            (require.config({ 'paths': { 'context': 'mermish', 'mermaidUri' : 'https://cdn.jsdelivr.net/npm/mermaid@9.1.7/dist/mermaid.min' }}) || require)(['mermaidUri'], (mermaid) => {\r\n",
       "                let renderTarget = document.getElementById('mermishTarget_6c88626208024fa8b9f4f58bcf8d281c');\r\n",
       "                mermaid.mermaidAPI.render( \r\n",
       "                    'mermishScratch_6c88626208024fa8b9f4f58bcf8d281c', \r\n",
       "                    `pie showData\n",
       "    title Random pie\n",
       "    \"Item 1\" : 1665756808\n",
       "    \"Item 2\" : 618336894\n",
       "    \"Item 3\" : 508566433\n",
       "    \"Item 4\" : 115187619\n",
       "    \"Item 5\" : 115135980\n",
       "    \"Item 6\" : 1869540350`, \r\n",
       "                    g => { renderTarget.innerHTML = g });\r\n",
       "            },\r\n",
       "            (error) => { console.log(error); });\r\n",
       "        }\r\n",
       "\r\n",
       "        if ((typeof(require) !==  typeof(Function)) || (typeof(require.config) !== typeof(Function))) {\r\n",
       "            let require_script = document.createElement('script');\r\n",
       "            require_script.setAttribute('src', 'https://cdnjs.cloudflare.com/ajax/libs/require.js/2.3.6/require.min.js');\r\n",
       "            require_script.setAttribute('type', 'text/javascript');\r\n",
       "            require_script.onload = function() { renderMermish_6c88626208024fa8b9f4f58bcf8d281c(); };\r\n",
       "            document.getElementsByTagName('head')[0].appendChild(require_script);\r\n",
       "        }\r\n",
       "        else {\r\n",
       "            renderMermish_6c88626208024fa8b9f4f58bcf8d281c();\r\n",
       "        }\r\n",
       "    </script>\r\n",
       "    <div id=\"mermishTarget_6c88626208024fa8b9f4f58bcf8d281c\"></div>\r\n",
       "</div>\r\n",
       "<!-- End Mermish Content -->\r\n"
      ]
     },
     "metadata": {},
     "output_type": "display_data"
    }
   ],
   "source": [
    "pie.chart {\n",
    "    yield \"Random pie\"\n",
    "    yield pie.showData\n",
    "\n",
    "    for x = 1 to 6 do\n",
    "        yield ($\"Item {x}\", System.Random.Shared.Next())\n",
    "}\n",
    "|> Mermaid.InteractiveDebuggable"
   ]
  },
  {
   "cell_type": "code",
   "execution_count": 28,
   "metadata": {
    "dotnet_interactive": {
     "language": "fsharp"
    },
    "vscode": {
     "languageId": "dotnet-interactive.fsharp"
    }
   },
   "outputs": [
    {
     "data": {
      "text/html": [
       "\r\n",
       "<!-- Begin Mermish Content -->\r\n",
       "<div style=\"background-color:white\">\r\n",
       "    <script type=\"text/javascript\">\r\n",
       "        renderMermish_2fbcc87977f04f29a66465a64eeff1e9 = () => {\r\n",
       "            (require.config({ 'paths': { 'context': 'mermish', 'mermaidUri' : 'https://cdn.jsdelivr.net/npm/mermaid@9.1.7/dist/mermaid.min' }}) || require)(['mermaidUri'], (mermaid) => {\r\n",
       "                let renderTarget = document.getElementById('mermishTarget_2fbcc87977f04f29a66465a64eeff1e9');\r\n",
       "                mermaid.mermaidAPI.render( \r\n",
       "                    'mermishScratch_2fbcc87977f04f29a66465a64eeff1e9', \r\n",
       "                    `pie showData\n",
       "    title Minimal Syntax\n",
       "    \"Slice 1\" : 1\n",
       "    \"Slice 2\" : 2`, \r\n",
       "                    g => { renderTarget.innerHTML = g });\r\n",
       "            },\r\n",
       "            (error) => { console.log(error); });\r\n",
       "        }\r\n",
       "\r\n",
       "        if ((typeof(require) !==  typeof(Function)) || (typeof(require.config) !== typeof(Function))) {\r\n",
       "            let require_script = document.createElement('script');\r\n",
       "            require_script.setAttribute('src', 'https://cdnjs.cloudflare.com/ajax/libs/require.js/2.3.6/require.min.js');\r\n",
       "            require_script.setAttribute('type', 'text/javascript');\r\n",
       "            require_script.onload = function() { renderMermish_2fbcc87977f04f29a66465a64eeff1e9(); };\r\n",
       "            document.getElementsByTagName('head')[0].appendChild(require_script);\r\n",
       "        }\r\n",
       "        else {\r\n",
       "            renderMermish_2fbcc87977f04f29a66465a64eeff1e9();\r\n",
       "        }\r\n",
       "    </script>\r\n",
       "    <div id=\"mermishTarget_2fbcc87977f04f29a66465a64eeff1e9\"></div>\r\n",
       "</div>\r\n",
       "<!-- End Mermish Content -->\r\n"
      ]
     },
     "metadata": {},
     "output_type": "display_data"
    }
   ],
   "source": [
    "pie.chart {\n",
    "    \"Minimal Syntax\"\n",
    "    pie.showData\n",
    "    \n",
    "    \"Slice 1\", 1\n",
    "    \"Slice 2\", 2\n",
    "}"
   ]
  },
  {
   "cell_type": "code",
   "execution_count": 29,
   "metadata": {
    "dotnet_interactive": {
     "language": "fsharp"
    },
    "vscode": {
     "languageId": "dotnet-interactive.fsharp"
    }
   },
   "outputs": [
    {
     "data": {
      "text/html": [
       "\r\n",
       "<!-- Begin Mermish Content -->\r\n",
       "<div style=\"background-color:white\">\r\n",
       "    <script type=\"text/javascript\">\r\n",
       "        renderMermish_8ed66d356b624fd9ac457037f2b29c08 = () => {\r\n",
       "            (require.config({ 'paths': { 'context': 'mermish', 'mermaidUri' : 'https://cdn.jsdelivr.net/npm/mermaid@9.1.7/dist/mermaid.min' }}) || require)(['mermaidUri'], (mermaid) => {\r\n",
       "                let renderTarget = document.getElementById('mermishTarget_8ed66d356b624fd9ac457037f2b29c08');\r\n",
       "                mermaid.mermaidAPI.render( \r\n",
       "                    'mermishScratch_8ed66d356b624fd9ac457037f2b29c08', \r\n",
       "                    `pie\n",
       "    title Minimal syntax w/ vars\n",
       "    \"A\" : 5\n",
       "    \"B\" : 5\n",
       "    \"C\" : 5\n",
       "    \"D\" : 5\n",
       "    \"E\" : 3`, \r\n",
       "                    g => { renderTarget.innerHTML = g });\r\n",
       "            },\r\n",
       "            (error) => { console.log(error); });\r\n",
       "        }\r\n",
       "\r\n",
       "        if ((typeof(require) !==  typeof(Function)) || (typeof(require.config) !== typeof(Function))) {\r\n",
       "            let require_script = document.createElement('script');\r\n",
       "            require_script.setAttribute('src', 'https://cdnjs.cloudflare.com/ajax/libs/require.js/2.3.6/require.min.js');\r\n",
       "            require_script.setAttribute('type', 'text/javascript');\r\n",
       "            require_script.onload = function() { renderMermish_8ed66d356b624fd9ac457037f2b29c08(); };\r\n",
       "            document.getElementsByTagName('head')[0].appendChild(require_script);\r\n",
       "        }\r\n",
       "        else {\r\n",
       "            renderMermish_8ed66d356b624fd9ac457037f2b29c08();\r\n",
       "        }\r\n",
       "    </script>\r\n",
       "    <div id=\"mermishTarget_8ed66d356b624fd9ac457037f2b29c08\"></div>\r\n",
       "</div>\r\n",
       "<!-- End Mermish Content -->\r\n"
      ]
     },
     "metadata": {},
     "output_type": "display_data"
    }
   ],
   "source": [
    "let data = [ (\"A\", 5) ; (\"B\", 5)]\n",
    "let c = (\"C\", 5)\n",
    "let d = (\"D\", 5)\n",
    "pie.chart {\n",
    "    \"Minimal syntax w/ vars\"\n",
    "    yield! data\n",
    "    c\n",
    "    d    \n",
    "    \"E\", 3\n",
    "}"
   ]
  },
  {
   "cell_type": "code",
   "execution_count": 38,
   "metadata": {
    "dotnet_interactive": {
     "language": "fsharp"
    },
    "vscode": {
     "languageId": "dotnet-interactive.fsharp"
    }
   },
   "outputs": [
    {
     "data": {
      "text/html": [
       "<!-- Mermish Debug -->\r\n",
       "<pre style='margin-bottom: 10px'>\r\n",
       "pie\n",
       "    title Minimal syntax w/ vars (True)\n",
       "    &quot;A&quot; : 5\n",
       "    &quot;B&quot; : 5\n",
       "    &quot;C&quot; : 5\n",
       "    &quot;D&quot; : 5\n",
       "    &quot;E&quot; : 3\n",
       "    &quot;F1&quot; : 2\n",
       "    &quot;F2&quot; : 3\n",
       "    &quot;F3&quot; : 4\n",
       "    &quot;F4&quot; : 5\n",
       "    &quot;F5&quot; : 6\n",
       "    &quot;G&quot; : 5\n",
       "    &quot;H&quot; : 5</pre>\r\n",
       "<!-- End Mermish Debug -->\r\n",
       "\r\n",
       "<!-- Begin Mermish Content -->\r\n",
       "<div style=\"background-color:white\">\r\n",
       "    <script type=\"text/javascript\">\r\n",
       "        renderMermish_a2e99064866e453f920a01b6d7a061ce = () => {\r\n",
       "            (require.config({ 'paths': { 'context': 'mermish', 'mermaidUri' : 'https://cdn.jsdelivr.net/npm/mermaid@9.1.7/dist/mermaid.min' }}) || require)(['mermaidUri'], (mermaid) => {\r\n",
       "                let renderTarget = document.getElementById('mermishTarget_a2e99064866e453f920a01b6d7a061ce');\r\n",
       "                mermaid.mermaidAPI.render( \r\n",
       "                    'mermishScratch_a2e99064866e453f920a01b6d7a061ce', \r\n",
       "                    `pie\n",
       "    title Minimal syntax w/ vars (True)\n",
       "    \"A\" : 5\n",
       "    \"B\" : 5\n",
       "    \"C\" : 5\n",
       "    \"D\" : 5\n",
       "    \"E\" : 3\n",
       "    \"F1\" : 2\n",
       "    \"F2\" : 3\n",
       "    \"F3\" : 4\n",
       "    \"F4\" : 5\n",
       "    \"F5\" : 6\n",
       "    \"G\" : 5\n",
       "    \"H\" : 5`, \r\n",
       "                    g => { renderTarget.innerHTML = g });\r\n",
       "            },\r\n",
       "            (error) => { console.log(error); });\r\n",
       "        }\r\n",
       "\r\n",
       "        if ((typeof(require) !==  typeof(Function)) || (typeof(require.config) !== typeof(Function))) {\r\n",
       "            let require_script = document.createElement('script');\r\n",
       "            require_script.setAttribute('src', 'https://cdnjs.cloudflare.com/ajax/libs/require.js/2.3.6/require.min.js');\r\n",
       "            require_script.setAttribute('type', 'text/javascript');\r\n",
       "            require_script.onload = function() { renderMermish_a2e99064866e453f920a01b6d7a061ce(); };\r\n",
       "            document.getElementsByTagName('head')[0].appendChild(require_script);\r\n",
       "        }\r\n",
       "        else {\r\n",
       "            renderMermish_a2e99064866e453f920a01b6d7a061ce();\r\n",
       "        }\r\n",
       "    </script>\r\n",
       "    <div id=\"mermishTarget_a2e99064866e453f920a01b6d7a061ce\"></div>\r\n",
       "</div>\r\n",
       "<!-- End Mermish Content -->\r\n"
      ]
     },
     "metadata": {},
     "output_type": "display_data"
    }
   ],
   "source": [
    "let data = [ (\"A\", 5) ; (\"B\", 5)]\n",
    "let c = (\"C\", 5)\n",
    "pie.chart {\n",
    "    let d = (\"D\", 5)\n",
    "    let zz = true\n",
    "    let data2 = [ (\"G\", 5) ; (\"H\", 5)]\n",
    "    $\"Minimal syntax w/ vars ({zz})\"\n",
    "    yield! data\n",
    "    c\n",
    "    d    \n",
    "    \"E\", 3\n",
    "    for f = 1 to 5 do        \n",
    "        $\"F{f}\", (f + 1)\n",
    "    yield! data2\n",
    "}\n",
    "|> Mermaid.InteractiveDebuggable"
   ]
  }
 ],
 "metadata": {
  "kernelspec": {
   "display_name": ".NET (C#)",
   "language": "C#",
   "name": ".net-csharp"
  },
  "language_info": {
   "file_extension": ".cs",
   "mimetype": "text/x-csharp",
   "name": "C#",
   "pygments_lexer": "csharp",
   "version": "9.0"
  },
  "vscode": {
   "interpreter": {
    "hash": "96ea463da8b265c951058de84b9645eca36b660a1a779c7b0eff4941594f7f98"
   }
  }
 },
 "nbformat": 4,
 "nbformat_minor": 2
}
