{
 "cells": [
  {
   "cell_type": "code",
   "execution_count": 1,
   "metadata": {
    "dotnet_interactive": {
     "language": "pwsh"
    },
    "vscode": {
     "languageId": "dotnet-interactive.pwsh"
    }
   },
   "outputs": [
    {
     "name": "stdout",
     "output_type": "stream",
     "text": [
      "MSBuild version 17.3.2+561848881 for .NET\r\n",
      "  Determining projects to restore...\r\n",
      "  Restored C:\\Dev\\Mermish\\Mermish\\Mermish.fsproj (in 95 ms).\r\n",
      "  Restored C:\\Dev\\Mermish\\Mermish.Testing.Fs\\Mermish.Testing.Fs.fsproj (in 200 ms).\r\n",
      "  Successfully created package 'C:\\Dev\\Mermish\\Mermish\\bin\\Debug\\Mermish.0.0.17-dev.nupkg'.\r\n"
     ]
    }
   ],
   "source": [
    "# Clear any older versions of this extension package from your NuGet cache\n",
    "rm ~/.nuget/packages/Mermish -Force -Recurse -ErrorAction Ignore\n",
    "\n",
    "# Pack up the NuGet package. \n",
    "dotnet pack ..\\Mermish.sln /p:PackageVersion=0.0.17-dev --force\n",
    "\n",
    "#Select-String -Path ~/.packagemanagement/nuget/Cache/*.* -pattern mermish/0.0.0-dev\n",
    "#| Select-Object -Property path\n",
    "#| Sort-Object -Property path -Unique\n",
    "#| Remove-Item -Force"
   ]
  },
  {
   "cell_type": "code",
   "execution_count": 3,
   "metadata": {
    "dotnet_interactive": {
     "language": "fsharp"
    },
    "vscode": {
     "languageId": "dotnet-interactive.fsharp"
    }
   },
   "outputs": [
    {
     "data": {
      "text/html": [
       "<div><div><strong>Restore sources</strong><ul><li><span> C:/Dev/Mermish/Mermish/bin/Debug</span></li></ul></div><div></div><div><strong>Installed Packages</strong><ul><li><span>Mermish, 0.0.17-dev</span></li></ul></div></div>"
      ]
     },
     "metadata": {},
     "output_type": "display_data"
    },
    {
     "data": {
      "text/markdown": [
       "Loading extension script from `C:\\Users\\dave\\.nuget\\packages\\mermish\\0.0.17-dev\\interactive-extensions\\dotnet\\extension.dib`"
      ]
     },
     "metadata": {},
     "output_type": "display_data"
    },
    {
     "data": {
      "text/markdown": [
       "Mermish formatter added from extension script."
      ]
     },
     "metadata": {},
     "output_type": "display_data"
    }
   ],
   "source": [
    "// Note: If this fails with \"Access to the path 'Mermish.dll' is denied, just close and re-open the notebook.\n",
    "// This will happen any time you run the first cell (to clear the NuGet cache and rebuild the package) after having run this cell.\n",
    "// This can also happen if you run the first cell while another notebook is open referencing the dev package\n",
    "\n",
    "#i \"nuget: C:/Dev/Mermish/Mermish/bin/Debug\"\n",
    "#r \"nuget: Mermish, 0.0.17-dev\"\n",
    "\n",
    "open Mermish\n"
   ]
  },
  {
   "cell_type": "code",
   "execution_count": 4,
   "metadata": {
    "dotnet_interactive": {
     "language": "fsharp"
    },
    "vscode": {
     "languageId": "dotnet-interactive.fsharp"
    }
   },
   "outputs": [
    {
     "data": {
      "text/plain": [
       "pie showData\n",
       "    title Animals in the Zoo\n",
       "    \"Zookeeper\" : 7\n",
       "    \"Lion\" : 4\n",
       "    \"Tiger\" : 3\n",
       "    \"Bear\" : 6"
      ]
     },
     "metadata": {},
     "output_type": "display_data"
    }
   ],
   "source": [
    "type Animal = { Species : string ; Population : int }\n",
    "let zooAnimals = [\n",
    "    { Species = \"Lion\" ; Population = 4 }\n",
    "    { Species = \"Tiger\" ; Population = 3 }\n",
    "    { Species = \"Bear\" ; Population = 6 }\n",
    "]\n",
    "\n",
    "let zooChart = \n",
    "    Mermaid.PieChart [\n",
    "        Title \"Animals in the Zoo\"\n",
    "        ShowData\n",
    "        PieSlice (\"Zookeeper\", 7)\n",
    "        PieSlices (zooAnimals |> Seq.map (fun a -> a.Species, a.Population))\n",
    "    ]\n",
    "    \n",
    "zooChart.MermaidSyntax"
   ]
  },
  {
   "cell_type": "code",
   "execution_count": 5,
   "metadata": {
    "dotnet_interactive": {
     "language": "fsharp"
    },
    "vscode": {
     "languageId": "dotnet-interactive.fsharp"
    }
   },
   "outputs": [
    {
     "name": "stdout",
     "output_type": "stream",
     "text": [
      "pie showData\n",
      "    title Animals in the Zoo\n",
      "    \"Zookeeper\" : 7\n",
      "    \"Lion\" : 4\n",
      "    \"Tiger\" : 3\n",
      "    \"Bear\" : 6\r\n"
     ]
    }
   ],
   "source": [
    "printfn \"%A\" zooChart"
   ]
  },
  {
   "cell_type": "code",
   "execution_count": 6,
   "metadata": {
    "dotnet_interactive": {
     "language": "fsharp"
    },
    "vscode": {
     "languageId": "dotnet-interactive.fsharp"
    }
   },
   "outputs": [
    {
     "data": {
      "text/plain": [
       "pie showData\n",
       "    title Animals in the Zoo\n",
       "    \"Zookeeper\" : 7\n",
       "    \"Lion\" : 4\n",
       "    \"Tiger\" : 3\n",
       "    \"Bear\" : 6"
      ]
     },
     "metadata": {},
     "output_type": "display_data"
    }
   ],
   "source": [
    "zooChart.ToString()"
   ]
  },
  {
   "cell_type": "code",
   "execution_count": 7,
   "metadata": {
    "dotnet_interactive": {
     "language": "fsharp"
    },
    "vscode": {
     "languageId": "dotnet-interactive.fsharp"
    }
   },
   "outputs": [
    {
     "data": {
      "text/html": [
       "\r\n",
       "<!-- Begin Mermish Content -->\r\n",
       "<div style=\"background-color:white\">\r\n",
       "    <script type=\"text/javascript\">\r\n",
       "        renderMermish_406ceb4ad6404154be60f7acc1dcfb10 = () => {\r\n",
       "            (require.config({ 'paths': { 'context': 'mermish', 'mermaidUri' : 'https://cdn.jsdelivr.net/npm/mermaid@9.1.7/dist/mermaid.min' }}) || require)(['mermaidUri'], (mermaid) => {\r\n",
       "                let renderTarget = document.getElementById('mermishTarget_406ceb4ad6404154be60f7acc1dcfb10');\r\n",
       "                mermaid.mermaidAPI.render( \r\n",
       "                    'mermishScratch_406ceb4ad6404154be60f7acc1dcfb10', \r\n",
       "                    `pie showData\n",
       "    title Animals in the Zoo\n",
       "    \"Zookeeper\" : 7\n",
       "    \"Lion\" : 4\n",
       "    \"Tiger\" : 3\n",
       "    \"Bear\" : 6`, \r\n",
       "                    g => { renderTarget.innerHTML = g });\r\n",
       "            },\r\n",
       "            (error) => { console.log(error); });\r\n",
       "        }\r\n",
       "\r\n",
       "        if ((typeof(require) !==  typeof(Function)) || (typeof(require.config) !== typeof(Function))) {\r\n",
       "            let require_script = document.createElement('script');\r\n",
       "            require_script.setAttribute('src', 'https://cdnjs.cloudflare.com/ajax/libs/require.js/2.3.6/require.min.js');\r\n",
       "            require_script.setAttribute('type', 'text/javascript');\r\n",
       "            require_script.onload = function() { renderMermish_406ceb4ad6404154be60f7acc1dcfb10(); };\r\n",
       "            document.getElementsByTagName('head')[0].appendChild(require_script);\r\n",
       "        }\r\n",
       "        else {\r\n",
       "            renderMermish_406ceb4ad6404154be60f7acc1dcfb10();\r\n",
       "        }\r\n",
       "    </script>\r\n",
       "    <div id=\"mermishTarget_406ceb4ad6404154be60f7acc1dcfb10\"></div>\r\n",
       "</div>\r\n",
       "<!-- End Mermish Content -->\r\n"
      ]
     },
     "metadata": {},
     "output_type": "display_data"
    }
   ],
   "source": [
    "zooChart"
   ]
  },
  {
   "cell_type": "code",
   "execution_count": 8,
   "metadata": {
    "dotnet_interactive": {
     "language": "fsharp"
    },
    "vscode": {
     "languageId": "dotnet-interactive.fsharp"
    }
   },
   "outputs": [
    {
     "data": {
      "text/html": [
       "\r\n",
       "<!-- Begin Mermish Content -->\r\n",
       "<div style=\"background-color:white\">\r\n",
       "    <script type=\"text/javascript\">\r\n",
       "        renderMermish_4adbe01c902c42bc98ca8ddda3e1e32f = () => {\r\n",
       "            (require.config({ 'paths': { 'context': 'mermish', 'mermaidUri' : 'https://cdn.jsdelivr.net/npm/mermaid@9.1.7/dist/mermaid.min' }}) || require)(['mermaidUri'], (mermaid) => {\r\n",
       "                let renderTarget = document.getElementById('mermishTarget_4adbe01c902c42bc98ca8ddda3e1e32f');\r\n",
       "                mermaid.mermaidAPI.render( \r\n",
       "                    'mermishScratch_4adbe01c902c42bc98ca8ddda3e1e32f', \r\n",
       "                    `pie\n",
       "    title Animals and Fish in the Zoo\n",
       "    \"Zookeeper\" : 7\n",
       "    \"Lion\" : 4\n",
       "    \"Tiger\" : 3\n",
       "    \"Bear\" : 6\n",
       "    \"Fish\" : 14`, \r\n",
       "                    g => { renderTarget.innerHTML = g });\r\n",
       "            },\r\n",
       "            (error) => { console.log(error); });\r\n",
       "        }\r\n",
       "\r\n",
       "        if ((typeof(require) !==  typeof(Function)) || (typeof(require.config) !== typeof(Function))) {\r\n",
       "            let require_script = document.createElement('script');\r\n",
       "            require_script.setAttribute('src', 'https://cdnjs.cloudflare.com/ajax/libs/require.js/2.3.6/require.min.js');\r\n",
       "            require_script.setAttribute('type', 'text/javascript');\r\n",
       "            require_script.onload = function() { renderMermish_4adbe01c902c42bc98ca8ddda3e1e32f(); };\r\n",
       "            document.getElementsByTagName('head')[0].appendChild(require_script);\r\n",
       "        }\r\n",
       "        else {\r\n",
       "            renderMermish_4adbe01c902c42bc98ca8ddda3e1e32f();\r\n",
       "        }\r\n",
       "    </script>\r\n",
       "    <div id=\"mermishTarget_4adbe01c902c42bc98ca8ddda3e1e32f\"></div>\r\n",
       "</div>\r\n",
       "<!-- End Mermish Content -->\r\n"
      ]
     },
     "metadata": {},
     "output_type": "display_data"
    }
   ],
   "source": [
    "zooChart\n",
    "|> PieChart.AddAll [\n",
    "    Title \"Animals and Fish in the Zoo\"\n",
    "    HideData\n",
    "    PieSlice (\"Fish\", 14)\n",
    "]"
   ]
  },
  {
   "cell_type": "code",
   "execution_count": 9,
   "metadata": {
    "dotnet_interactive": {
     "language": "fsharp"
    },
    "vscode": {
     "languageId": "dotnet-interactive.fsharp"
    }
   },
   "outputs": [
    {
     "data": {
      "text/html": [
       "\r\n",
       "<!-- Begin Mermish Content -->\r\n",
       "<div style=\"background-color:white\">\r\n",
       "    <script type=\"text/javascript\">\r\n",
       "        renderMermish_a92d8c5afa884899842b715956ab6768 = () => {\r\n",
       "            (require.config({ 'paths': { 'context': 'mermish', 'mermaidUri' : 'https://cdn.jsdelivr.net/npm/mermaid@9.1.7/dist/mermaid.min' }}) || require)(['mermaidUri'], (mermaid) => {\r\n",
       "                let renderTarget = document.getElementById('mermishTarget_a92d8c5afa884899842b715956ab6768');\r\n",
       "                mermaid.mermaidAPI.render( \r\n",
       "                    'mermishScratch_a92d8c5afa884899842b715956ab6768', \r\n",
       "                    `pie showData\n",
       "    title Animals in the Zoo (not human)\n",
       "    \"Lion\" : 4\n",
       "    \"Tiger\" : 3\n",
       "    \"Bear\" : 6`, \r\n",
       "                    g => { renderTarget.innerHTML = g });\r\n",
       "            },\r\n",
       "            (error) => { console.log(error); });\r\n",
       "        }\r\n",
       "\r\n",
       "        if ((typeof(require) !==  typeof(Function)) || (typeof(require.config) !== typeof(Function))) {\r\n",
       "            let require_script = document.createElement('script');\r\n",
       "            require_script.setAttribute('src', 'https://cdnjs.cloudflare.com/ajax/libs/require.js/2.3.6/require.min.js');\r\n",
       "            require_script.setAttribute('type', 'text/javascript');\r\n",
       "            require_script.onload = function() { renderMermish_a92d8c5afa884899842b715956ab6768(); };\r\n",
       "            document.getElementsByTagName('head')[0].appendChild(require_script);\r\n",
       "        }\r\n",
       "        else {\r\n",
       "            renderMermish_a92d8c5afa884899842b715956ab6768();\r\n",
       "        }\r\n",
       "    </script>\r\n",
       "    <div id=\"mermishTarget_a92d8c5afa884899842b715956ab6768\"></div>\r\n",
       "</div>\r\n",
       "<!-- End Mermish Content -->\r\n"
      ]
     },
     "metadata": {},
     "output_type": "display_data"
    }
   ],
   "source": [
    "zooChart \n",
    "|> PieChart.RemoveSlice \"Zookeeper\"\n",
    "|> PieChart.Add (Title \"Animals in the Zoo (not human)\")"
   ]
  },
  {
   "cell_type": "code",
   "execution_count": 10,
   "metadata": {
    "dotnet_interactive": {
     "language": "fsharp"
    },
    "vscode": {
     "languageId": "dotnet-interactive.fsharp"
    }
   },
   "outputs": [
    {
     "data": {
      "text/html": [
       "\r\n",
       "<!-- Begin Mermish Content -->\r\n",
       "<div style=\"background-color:white\">\r\n",
       "    <script type=\"text/javascript\">\r\n",
       "        renderMermish_456534a9db4b433e8d5b6aaad385b14a = () => {\r\n",
       "            (require.config({ 'paths': { 'context': 'mermish', 'mermaidUri' : 'https://cdn.jsdelivr.net/npm/mermaid@9.1.7/dist/mermaid.min' }}) || require)(['mermaidUri'], (mermaid) => {\r\n",
       "                let renderTarget = document.getElementById('mermishTarget_456534a9db4b433e8d5b6aaad385b14a');\r\n",
       "                mermaid.mermaidAPI.render( \r\n",
       "                    'mermishScratch_456534a9db4b433e8d5b6aaad385b14a', \r\n",
       "                    `pie showData\n",
       "    title Testing: Colon\n",
       "    \"Category: 1\" : 25.6\n",
       "    \"Tiger::Animal\" : 32.8`, \r\n",
       "                    g => { renderTarget.innerHTML = g });\r\n",
       "            },\r\n",
       "            (error) => { console.log(error); });\r\n",
       "        }\r\n",
       "\r\n",
       "        if ((typeof(require) !==  typeof(Function)) || (typeof(require.config) !== typeof(Function))) {\r\n",
       "            let require_script = document.createElement('script');\r\n",
       "            require_script.setAttribute('src', 'https://cdnjs.cloudflare.com/ajax/libs/require.js/2.3.6/require.min.js');\r\n",
       "            require_script.setAttribute('type', 'text/javascript');\r\n",
       "            require_script.onload = function() { renderMermish_456534a9db4b433e8d5b6aaad385b14a(); };\r\n",
       "            document.getElementsByTagName('head')[0].appendChild(require_script);\r\n",
       "        }\r\n",
       "        else {\r\n",
       "            renderMermish_456534a9db4b433e8d5b6aaad385b14a();\r\n",
       "        }\r\n",
       "    </script>\r\n",
       "    <div id=\"mermishTarget_456534a9db4b433e8d5b6aaad385b14a\"></div>\r\n",
       "</div>\r\n",
       "<!-- End Mermish Content -->\r\n"
      ]
     },
     "metadata": {},
     "output_type": "display_data"
    }
   ],
   "source": [
    "Mermaid.PieChart [\n",
    "    Title \"Testing: Colon\"\n",
    "    ShowData\n",
    "    PieSlice (\"Category: 1\", 25.6)\n",
    "    PieSlice (\"Tiger::Animal\", 32.8)\n",
    "]"
   ]
  },
  {
   "cell_type": "code",
   "execution_count": 11,
   "metadata": {
    "dotnet_interactive": {
     "language": "fsharp"
    },
    "vscode": {
     "languageId": "dotnet-interactive.fsharp"
    }
   },
   "outputs": [
    {
     "name": "stdout",
     "output_type": "stream",
     "text": [
      "pie\n",
      "    title From Computation Expression\n",
      "    \"Item 1\" : 45\n",
      "    \"Item 2\" : 28\n",
      "    \"Item 3\" : 32\r\n"
     ]
    }
   ],
   "source": [
    "let chart10 = \n",
    "    pie.chart {\n",
    "        pie.Title \"From Computation Expression\"\n",
    "        pie.slice (\"Item 1\", 45)\n",
    "        pie.slice (\"Item 2\", 28)\n",
    "        pie.slice (\"Item 3\", 32)\n",
    "    }\n",
    "\n",
    "printfn \"%A\" chart10"
   ]
  },
  {
   "cell_type": "code",
   "execution_count": 12,
   "metadata": {
    "dotnet_interactive": {
     "language": "fsharp"
    },
    "vscode": {
     "languageId": "dotnet-interactive.fsharp"
    }
   },
   "outputs": [
    {
     "data": {
      "text/html": [
       "\r\n",
       "<!-- Begin Mermish Content -->\r\n",
       "<div style=\"background-color:white\">\r\n",
       "    <script type=\"text/javascript\">\r\n",
       "        renderMermish_d6ba81b719654517bf3a4e6f874f4648 = () => {\r\n",
       "            (require.config({ 'paths': { 'context': 'mermish', 'mermaidUri' : 'https://cdn.jsdelivr.net/npm/mermaid@9.1.7/dist/mermaid.min' }}) || require)(['mermaidUri'], (mermaid) => {\r\n",
       "                let renderTarget = document.getElementById('mermishTarget_d6ba81b719654517bf3a4e6f874f4648');\r\n",
       "                mermaid.mermaidAPI.render( \r\n",
       "                    'mermishScratch_d6ba81b719654517bf3a4e6f874f4648', \r\n",
       "                    `pie\n",
       "    title From Computation Expression\n",
       "    \"Item 1\" : 45\n",
       "    \"Item 2\" : 28\n",
       "    \"Item 3\" : 32`, \r\n",
       "                    g => { renderTarget.innerHTML = g });\r\n",
       "            },\r\n",
       "            (error) => { console.log(error); });\r\n",
       "        }\r\n",
       "\r\n",
       "        if ((typeof(require) !==  typeof(Function)) || (typeof(require.config) !== typeof(Function))) {\r\n",
       "            let require_script = document.createElement('script');\r\n",
       "            require_script.setAttribute('src', 'https://cdnjs.cloudflare.com/ajax/libs/require.js/2.3.6/require.min.js');\r\n",
       "            require_script.setAttribute('type', 'text/javascript');\r\n",
       "            require_script.onload = function() { renderMermish_d6ba81b719654517bf3a4e6f874f4648(); };\r\n",
       "            document.getElementsByTagName('head')[0].appendChild(require_script);\r\n",
       "        }\r\n",
       "        else {\r\n",
       "            renderMermish_d6ba81b719654517bf3a4e6f874f4648();\r\n",
       "        }\r\n",
       "    </script>\r\n",
       "    <div id=\"mermishTarget_d6ba81b719654517bf3a4e6f874f4648\"></div>\r\n",
       "</div>\r\n",
       "<!-- End Mermish Content -->\r\n"
      ]
     },
     "metadata": {},
     "output_type": "display_data"
    }
   ],
   "source": [
    "chart10"
   ]
  },
  {
   "cell_type": "code",
   "execution_count": 31,
   "metadata": {
    "dotnet_interactive": {
     "language": "fsharp"
    },
    "vscode": {
     "languageId": "dotnet-interactive.fsharp"
    }
   },
   "outputs": [
    {
     "name": "stdout",
     "output_type": "stream",
     "text": [
      "pie showData\n",
      "    title From Computation Expression\n",
      "    \"Item 1\" : 2.46\n",
      "    \"Item 2\" : 4.55\n",
      "    \"Item 3\" : 3.21\r\n"
     ]
    }
   ],
   "source": [
    "let chart11 = \n",
    "    pie.chart {\n",
    "        pie.title \"From Computation Expression\"\n",
    "        pie.showData\n",
    "        pie.slice (\"Item 1\", 2.458674321)\n",
    "        pie.slice (\"Item 2\", 4.549832154)\n",
    "        pie.slice (\"Item 3\", 3.2136548)\n",
    "    }\n",
    "\n",
    "printfn \"%A\" chart11"
   ]
  },
  {
   "cell_type": "code",
   "execution_count": 14,
   "metadata": {
    "dotnet_interactive": {
     "language": "fsharp"
    },
    "vscode": {
     "languageId": "dotnet-interactive.fsharp"
    }
   },
   "outputs": [
    {
     "data": {
      "text/html": [
       "\r\n",
       "<!-- Begin Mermish Content -->\r\n",
       "<div style=\"background-color:white\">\r\n",
       "    <script type=\"text/javascript\">\r\n",
       "        renderMermish_f494ab8d3d8546739d1531280f4c4527 = () => {\r\n",
       "            (require.config({ 'paths': { 'context': 'mermish', 'mermaidUri' : 'https://cdn.jsdelivr.net/npm/mermaid@9.1.7/dist/mermaid.min' }}) || require)(['mermaidUri'], (mermaid) => {\r\n",
       "                let renderTarget = document.getElementById('mermishTarget_f494ab8d3d8546739d1531280f4c4527');\r\n",
       "                mermaid.mermaidAPI.render( \r\n",
       "                    'mermishScratch_f494ab8d3d8546739d1531280f4c4527', \r\n",
       "                    `pie showData\n",
       "    title From Computation Expression\n",
       "    \"Item 1\" : 2.46\n",
       "    \"Item 2\" : 4.55\n",
       "    \"Item 3\" : 3.21`, \r\n",
       "                    g => { renderTarget.innerHTML = g });\r\n",
       "            },\r\n",
       "            (error) => { console.log(error); });\r\n",
       "        }\r\n",
       "\r\n",
       "        if ((typeof(require) !==  typeof(Function)) || (typeof(require.config) !== typeof(Function))) {\r\n",
       "            let require_script = document.createElement('script');\r\n",
       "            require_script.setAttribute('src', 'https://cdnjs.cloudflare.com/ajax/libs/require.js/2.3.6/require.min.js');\r\n",
       "            require_script.setAttribute('type', 'text/javascript');\r\n",
       "            require_script.onload = function() { renderMermish_f494ab8d3d8546739d1531280f4c4527(); };\r\n",
       "            document.getElementsByTagName('head')[0].appendChild(require_script);\r\n",
       "        }\r\n",
       "        else {\r\n",
       "            renderMermish_f494ab8d3d8546739d1531280f4c4527();\r\n",
       "        }\r\n",
       "    </script>\r\n",
       "    <div id=\"mermishTarget_f494ab8d3d8546739d1531280f4c4527\"></div>\r\n",
       "</div>\r\n",
       "<!-- End Mermish Content -->\r\n"
      ]
     },
     "metadata": {},
     "output_type": "display_data"
    }
   ],
   "source": [
    "chart11"
   ]
  },
  {
   "cell_type": "code",
   "execution_count": 29,
   "metadata": {
    "dotnet_interactive": {
     "language": "fsharp"
    },
    "vscode": {
     "languageId": "dotnet-interactive.fsharp"
    }
   },
   "outputs": [
    {
     "data": {
      "text/html": [
       "\r\n",
       "<!-- Begin Mermish Content -->\r\n",
       "<div style=\"background-color:white\">\r\n",
       "    <script type=\"text/javascript\">\r\n",
       "        renderMermish_3df2576c053f4990931b8c5457edb930 = () => {\r\n",
       "            (require.config({ 'paths': { 'context': 'mermish', 'mermaidUri' : 'https://cdn.jsdelivr.net/npm/mermaid@9.1.7/dist/mermaid.min' }}) || require)(['mermaidUri'], (mermaid) => {\r\n",
       "                let renderTarget = document.getElementById('mermishTarget_3df2576c053f4990931b8c5457edb930');\r\n",
       "                mermaid.mermaidAPI.render( \r\n",
       "                    'mermishScratch_3df2576c053f4990931b8c5457edb930', \r\n",
       "                    `pie showData\n",
       "    title Random pie\n",
       "    \"Item 1\" : 1170063686\n",
       "    \"Item 2\" : 303380038\n",
       "    \"Item 3\" : 1253655609\n",
       "    \"Item 4\" : 1368228436\n",
       "    \"Item 5\" : 352432338\n",
       "    \"Item 6\" : 731824377`, \r\n",
       "                    g => { renderTarget.innerHTML = g });\r\n",
       "            },\r\n",
       "            (error) => { console.log(error); });\r\n",
       "        }\r\n",
       "\r\n",
       "        if ((typeof(require) !==  typeof(Function)) || (typeof(require.config) !== typeof(Function))) {\r\n",
       "            let require_script = document.createElement('script');\r\n",
       "            require_script.setAttribute('src', 'https://cdnjs.cloudflare.com/ajax/libs/require.js/2.3.6/require.min.js');\r\n",
       "            require_script.setAttribute('type', 'text/javascript');\r\n",
       "            require_script.onload = function() { renderMermish_3df2576c053f4990931b8c5457edb930(); };\r\n",
       "            document.getElementsByTagName('head')[0].appendChild(require_script);\r\n",
       "        }\r\n",
       "        else {\r\n",
       "            renderMermish_3df2576c053f4990931b8c5457edb930();\r\n",
       "        }\r\n",
       "    </script>\r\n",
       "    <div id=\"mermishTarget_3df2576c053f4990931b8c5457edb930\"></div>\r\n",
       "</div>\r\n",
       "<!-- End Mermish Content -->\r\n"
      ]
     },
     "metadata": {},
     "output_type": "display_data"
    }
   ],
   "source": [
    "let chart12 = pie.chart {\n",
    "    yield pie.title \"Random pie\"\n",
    "    yield pie.showData\n",
    "\n",
    "    for x = 1 to 6 do\n",
    "        yield pie.slice ($\"Item {x}\", System.Random.Shared.Next())\n",
    "}\n",
    "\n",
    "chart12"
   ]
  },
  {
   "cell_type": "code",
   "execution_count": 30,
   "metadata": {
    "dotnet_interactive": {
     "language": "fsharp"
    },
    "vscode": {
     "languageId": "dotnet-interactive.fsharp"
    }
   },
   "outputs": [
    {
     "data": {
      "text/plain": [
       "pie showData\n",
       "    title Random pie\n",
       "    \"Item 1\" : 1170063686\n",
       "    \"Item 2\" : 303380038\n",
       "    \"Item 3\" : 1253655609\n",
       "    \"Item 4\" : 1368228436\n",
       "    \"Item 5\" : 352432338\n",
       "    \"Item 6\" : 731824377"
      ]
     },
     "metadata": {},
     "output_type": "display_data"
    }
   ],
   "source": [
    "$\"{chart12}\""
   ]
  }
 ],
 "metadata": {
  "kernelspec": {
   "display_name": ".NET (C#)",
   "language": "C#",
   "name": ".net-csharp"
  },
  "language_info": {
   "file_extension": ".cs",
   "mimetype": "text/x-csharp",
   "name": "C#",
   "pygments_lexer": "csharp",
   "version": "9.0"
  },
  "vscode": {
   "interpreter": {
    "hash": "96ea463da8b265c951058de84b9645eca36b660a1a779c7b0eff4941594f7f98"
   }
  }
 },
 "nbformat": 4,
 "nbformat_minor": 2
}
