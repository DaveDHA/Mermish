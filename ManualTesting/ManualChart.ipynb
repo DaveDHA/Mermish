{
 "cells": [
  {
   "cell_type": "code",
   "execution_count": 1,
   "metadata": {
    "dotnet_interactive": {
     "language": "pwsh"
    },
    "vscode": {
     "languageId": "dotnet-interactive.pwsh"
    }
   },
   "outputs": [
    {
     "name": "stdout",
     "output_type": "stream",
     "text": [
      "MSBuild version 17.3.2+561848881 for .NET\r\n",
      "  Determining projects to restore...\r\n",
      "  Restored C:\\Dev\\Mermish\\Mermish\\Mermish.fsproj (in 99 ms).\r\n"
     ]
    }
   ],
   "source": [
    "# Clear any older versions of this extension package from your NuGet cache\n",
    "rm ~/.nuget/packages/Mermish -Force -Recurse -ErrorAction Ignore\n",
    "\n",
    "# Pack up the NuGet package. \n",
    "dotnet pack ..\\Mermish.sln /p:PackageVersion=0.0.0-dev --force\n",
    "\n",
    "Select-String -Path ~/.packagemanagement/nuget/Cache/*.* -pattern mermish/0.0.0-dev\n",
    "| Select-Object -Property path\n",
    "| Sort-Object -Property path -Unique\n",
    "| Remove-Item -Force"
   ]
  },
  {
   "cell_type": "code",
   "execution_count": 2,
   "metadata": {
    "dotnet_interactive": {
     "language": "fsharp"
    },
    "vscode": {
     "languageId": "dotnet-interactive.fsharp"
    }
   },
   "outputs": [
    {
     "data": {
      "text/html": [
       "<div><div><strong>Restore sources</strong><ul><li><span> C:/Dev/Mermish/Mermish/bin/Debug</span></li></ul></div><div></div><div><strong>Installed Packages</strong><ul><li><span>Mermish, 0.0.0-dev</span></li></ul></div></div>"
      ]
     },
     "metadata": {},
     "output_type": "display_data"
    },
    {
     "data": {
      "text/markdown": [
       "Loading extension script from `C:\\Users\\dave\\.nuget\\packages\\mermish\\0.0.0-dev\\interactive-extensions\\dotnet\\extension.dib`"
      ]
     },
     "metadata": {},
     "output_type": "display_data"
    },
    {
     "data": {
      "text/markdown": [
       "Mermish formatter added from extension script."
      ]
     },
     "metadata": {},
     "output_type": "display_data"
    }
   ],
   "source": [
    "// Note: If this fails with \"Access to the path 'Mermish.dll' is denied, just close and re-open the notebook.\n",
    "// This will happen any time you run the first cell (to clear the NuGet cache and rebuild the package) after having run this cell.\n",
    "// This can also happen if you run the first cell while another notebook is open referencing the dev package\n",
    "\n",
    "#i \"nuget: C:/Dev/Mermish/Mermish/bin/Debug\"\n",
    "#r \"nuget: Mermish, 0.0.0-dev\"\n",
    "\n",
    "open Mermish\n"
   ]
  },
  {
   "cell_type": "code",
   "execution_count": 3,
   "metadata": {
    "dotnet_interactive": {
     "language": "fsharp"
    },
    "vscode": {
     "languageId": "dotnet-interactive.fsharp"
    }
   },
   "outputs": [
    {
     "data": {
      "text/plain": [
       "\n",
       "sequenceDiagram\n",
       "    Alice->>+John: Hello John, how are you?\n",
       "    Alice->>+John: John, can you hear me?\n",
       "    John-->>-Alice: Hi Alice, I can hear you!\n",
       "    John-->>-Alice: I feel great!\n"
      ]
     },
     "metadata": {},
     "output_type": "display_data"
    }
   ],
   "source": [
    "let chart = Mermaid.ManualChart \"\"\"\n",
    "sequenceDiagram\n",
    "    Alice->>+John: Hello John, how are you?\n",
    "    Alice->>+John: John, can you hear me?\n",
    "    John-->>-Alice: Hi Alice, I can hear you!\n",
    "    John-->>-Alice: I feel great!\n",
    "\"\"\"\n",
    "\n",
    "Mermaid.SyntaxFor chart"
   ]
  },
  {
   "cell_type": "code",
   "execution_count": 4,
   "metadata": {
    "dotnet_interactive": {
     "language": "fsharp"
    },
    "vscode": {
     "languageId": "dotnet-interactive.fsharp"
    }
   },
   "outputs": [
    {
     "data": {
      "text/html": [
       "\r\n",
       "<!-- Begin Mermish Content -->\r\n",
       "<div style=\"background-color:white\">\r\n",
       "    <script type=\"text/javascript\">\r\n",
       "        renderMermish_43c3e5ef06d845e0872ffc9cedb553d3 = () => {\r\n",
       "            (require.config({ 'paths': { 'context': 'mermish', 'mermaidUri' : 'https://cdn.jsdelivr.net/npm/mermaid@9.1.3/dist/mermaid.min' }}) || require)(['mermaidUri'], (mermaid) => {\r\n",
       "                let renderTarget = document.getElementById('mermishTarget_43c3e5ef06d845e0872ffc9cedb553d3');\r\n",
       "                mermaid.mermaidAPI.render( \r\n",
       "                    'mermishScratch_43c3e5ef06d845e0872ffc9cedb553d3', \r\n",
       "                    `\n",
       "sequenceDiagram\n",
       "    Alice->>+John: Hello John, how are you?\n",
       "    Alice->>+John: John, can you hear me?\n",
       "    John-->>-Alice: Hi Alice, I can hear you!\n",
       "    John-->>-Alice: I feel great!\n",
       "`, \r\n",
       "                    g => { renderTarget.innerHTML = g });\r\n",
       "            },\r\n",
       "            (error) => { console.log(error); });\r\n",
       "        }\r\n",
       "\r\n",
       "        if ((typeof(require) !==  typeof(Function)) || (typeof(require.config) !== typeof(Function))) {\r\n",
       "            let require_script = document.createElement('script');\r\n",
       "            require_script.setAttribute('src', 'https://cdnjs.cloudflare.com/ajax/libs/require.js/2.3.6/require.min.js');\r\n",
       "            require_script.setAttribute('type', 'text/javascript');\r\n",
       "            require_script.onload = function() { renderMermish_43c3e5ef06d845e0872ffc9cedb553d3(); };\r\n",
       "            document.getElementsByTagName('head')[0].appendChild(require_script);\r\n",
       "        }\r\n",
       "        else {\r\n",
       "            renderMermish_43c3e5ef06d845e0872ffc9cedb553d3();\r\n",
       "        }\r\n",
       "    </script>\r\n",
       "    <div id=\"mermishTarget_43c3e5ef06d845e0872ffc9cedb553d3\"></div>\r\n",
       "</div>\r\n",
       "<!-- End Mermish Content -->\r\n"
      ]
     },
     "metadata": {},
     "output_type": "display_data"
    }
   ],
   "source": [
    "chart"
   ]
  }
 ],
 "metadata": {
  "kernelspec": {
   "display_name": ".NET (C#)",
   "language": "C#",
   "name": ".net-csharp"
  },
  "language_info": {
   "file_extension": ".cs",
   "mimetype": "text/x-csharp",
   "name": "C#",
   "pygments_lexer": "csharp",
   "version": "9.0"
  },
  "vscode": {
   "interpreter": {
    "hash": "96ea463da8b265c951058de84b9645eca36b660a1a779c7b0eff4941594f7f98"
   }
  }
 },
 "nbformat": 4,
 "nbformat_minor": 2
}
