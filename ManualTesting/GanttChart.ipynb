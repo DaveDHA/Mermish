{
 "cells": [
  {
   "cell_type": "code",
   "execution_count": 1,
   "metadata": {
    "dotnet_interactive": {
     "language": "pwsh"
    },
    "vscode": {
     "languageId": "dotnet-interactive.pwsh"
    }
   },
   "outputs": [
    {
     "name": "stdout",
     "output_type": "stream",
     "text": [
      "MSBuild version 17.3.2+561848881 for .NET\r\n",
      "  Determining projects to restore...\r\n",
      "  Restored C:\\Dev\\Mermish\\Mermish\\Mermish.fsproj (in 94 ms).\r\n",
      "  Restored C:\\Dev\\Mermish\\Mermish.Testing.Fs\\Mermish.Testing.Fs.fsproj (in 194 ms).\r\n",
      "  Successfully created package 'C:\\Dev\\Mermish\\Mermish\\bin\\Debug\\Mermish.0.0.10-dev.nupkg'.\r\n"
     ]
    }
   ],
   "source": [
    "# Clear any older versions of this extension package from your NuGet cache\n",
    "rm ~/.nuget/packages/Mermish -Force -Recurse -ErrorAction Ignore\n",
    "\n",
    "# Pack up the NuGet package. \n",
    "dotnet pack ..\\Mermish.sln /p:PackageVersion=0.0.10-dev --force\n",
    "\n",
    "#Select-String -Path ~/.packagemanagement/nuget/Cache/*.* -pattern mermish/0.0.0-dev\n",
    "#| Select-Object -Property path\n",
    "#| Sort-Object -Property path -Unique\n",
    "#| Remove-Item -Force"
   ]
  },
  {
   "cell_type": "code",
   "execution_count": 2,
   "metadata": {
    "dotnet_interactive": {
     "language": "fsharp"
    },
    "vscode": {
     "languageId": "dotnet-interactive.fsharp"
    }
   },
   "outputs": [
    {
     "data": {
      "text/html": [
       "<div><div><strong>Restore sources</strong><ul><li><span> C:/Dev/Mermish/Mermish/bin/Debug</span></li></ul></div><div></div><div><strong>Installed Packages</strong><ul><li><span>Mermish, 0.0.10-dev</span></li></ul></div></div>"
      ]
     },
     "metadata": {},
     "output_type": "display_data"
    },
    {
     "data": {
      "text/markdown": [
       "Loading extension script from `C:\\Users\\dave\\.nuget\\packages\\mermish\\0.0.10-dev\\interactive-extensions\\dotnet\\extension.dib`"
      ]
     },
     "metadata": {},
     "output_type": "display_data"
    },
    {
     "data": {
      "text/markdown": [
       "Mermish formatter added from extension script."
      ]
     },
     "metadata": {},
     "output_type": "display_data"
    }
   ],
   "source": [
    "// Note: If this fails with \"Access to the path 'Mermish.dll' is denied, just close and re-open the notebook.\n",
    "// This will happen any time you run the first cell (to clear the NuGet cache and rebuild the package) after having run this cell.\n",
    "// This can also happen if you run the first cell while another notebook is open referencing the dev package\n",
    "\n",
    "#i \"nuget: C:/Dev/Mermish/Mermish/bin/Debug\"\n",
    "#r \"nuget: Mermish, 0.0.10-dev\"\n",
    "\n",
    "open Mermish\n"
   ]
  },
  {
   "cell_type": "code",
   "execution_count": 13,
   "metadata": {
    "dotnet_interactive": {
     "language": "fsharp"
    },
    "vscode": {
     "languageId": "dotnet-interactive.fsharp"
    }
   },
   "outputs": [
    {
     "name": "stdout",
     "output_type": "stream",
     "text": [
      "gantt\n",
      "    title Testing the Gantt Chart\n",
      "    dateFormat YYYY-MM-DD\n",
      "    axisFormat %m-%d-%Y\n",
      "    excludes weekends\n",
      "    Task 1 : done, t1, 2022-01-01, 4w\n",
      "    Task 2 : crit, active, t2, after t1, 2w\n",
      "    Section Major Items\n",
      "    Task 3 : t3, after t2, 4w\n",
      "    Task 4 : t4, after t2, 7w\n",
      "    Celebrate! : milestone, 2022-03-13, 1d\r\n"
     ]
    }
   ],
   "source": [
    "open Mermish.GanttChart\n",
    "\n",
    "let chart = \n",
    "    Mermaid.GanttChart\n",
    "    |> GanttChart.WithTitle \"Testing the Gantt Chart\"\n",
    "    |> GanttChart.WithDateFormat \"YYYY-MM-DD\"\n",
    "    |> GanttChart.AddExclusions [ Weekends ]\n",
    "    |> GanttChart.WithAxisFormat \"%m-%d-%Y\"\n",
    "    |> GanttChart.AddItems [\n",
    "            GanttChart.CreateTask (4 |> Weeks) \"Task 1\"\n",
    "            |> Item.WithId \"t1\"\n",
    "            |> Item.WithState Done\n",
    "            |> Item.Starts (On \"2022-01-01\")\n",
    "            \n",
    "            GanttChart.CreateTask (2 |> Weeks) \"Task 2\"\n",
    "            |> Item.WithId \"t2\"\n",
    "            |> Item.Critical\n",
    "            |> Item.Starts (After \"t1\")\n",
    "            |> Item.WithState Active            \n",
    "        ]\n",
    "    |> GanttChart.AddSection \"Major Items\" [\n",
    "            \n",
    "            GanttChart.CreateTask (4 |> Weeks) \"Task 3\"\n",
    "            |> Item.WithId \"t3\"\n",
    "            |> Item.Starts (After \"t2\")\n",
    "\n",
    "            GanttChart.CreateTask (7 |> Weeks) \"Task 4\"\n",
    "            |> Item.WithId \"t4\"\n",
    "            |> Item.Starts (After \"t2\")\n",
    "\n",
    "            GanttChart.CreateMilestone \"Celebrate!\"\n",
    "            |> Item.Starts (On \"2022-03-13\")                \n",
    "        ]\n",
    "// let chart = Mermaid.GanttChart [\n",
    "//     GanttNode.Title \"Testing the Gantt Chart\"\n",
    "//     GanttNode.DateFormat \"YYYY-MM-DD\"\n",
    "//     GanttNode.Exclude [ Weekends ]\n",
    "//     GanttNode.AxisFormat \"%m-%d-%Y\"\n",
    "//     GanttNode.Item (\"Task 1\", [ \n",
    "//         Id \"t1\"\n",
    "//         State Done\n",
    "//         Start (Date \"2022-01-01\")\n",
    "//         Duration (Weeks 4)\n",
    "//     ])\n",
    "//     GanttNode.Item (\"Task 2\", [ \n",
    "//         Id \"t2\"\n",
    "//         Critical\n",
    "//         Start (After \"t1\")\n",
    "//         Duration (Weeks 2)\n",
    "//         State Active\n",
    "//     ])\n",
    "//     GanttNode.Section \"Major Items\"\n",
    "//     GanttNode.Item (\"Task 3\", [ \n",
    "//         Id \"t3\"        \n",
    "//         Start (After \"t2\")\n",
    "//         Duration (Weeks 4)\n",
    "//     ])\n",
    "//     GanttNode.Item (\"Task 4\", [ \n",
    "//         Id \"t4\"        \n",
    "//         Start (After \"t2\")\n",
    "//         Duration (Weeks 7)\n",
    "//     ])\n",
    "//     GanttNode.Milestone (\"Celebrate!\", [\n",
    "//         MilestoneNode.Id \"m1\" \n",
    "//         MilestoneNode.Start (Date \"2022-03-13\")\n",
    "//         MilestoneNode.Duration (Hours 1)\n",
    "//     ])\n",
    "// ]\n",
    "\n",
    "printfn \"%A\" chart"
   ]
  },
  {
   "cell_type": "code",
   "execution_count": 14,
   "metadata": {
    "dotnet_interactive": {
     "language": "fsharp"
    },
    "vscode": {
     "languageId": "dotnet-interactive.fsharp"
    }
   },
   "outputs": [
    {
     "data": {
      "text/html": [
       "\r\n",
       "<!-- Begin Mermish Content -->\r\n",
       "<div style=\"background-color:white\">\r\n",
       "    <script type=\"text/javascript\">\r\n",
       "        renderMermish_fdc21db53e43471eab4b558cd2154d9d = () => {\r\n",
       "            (require.config({ 'paths': { 'context': 'mermish', 'mermaidUri' : 'https://cdn.jsdelivr.net/npm/mermaid@9.1.7/dist/mermaid.min' }}) || require)(['mermaidUri'], (mermaid) => {\r\n",
       "                let renderTarget = document.getElementById('mermishTarget_fdc21db53e43471eab4b558cd2154d9d');\r\n",
       "                mermaid.mermaidAPI.render( \r\n",
       "                    'mermishScratch_fdc21db53e43471eab4b558cd2154d9d', \r\n",
       "                    `gantt\n",
       "    title Testing the Gantt Chart\n",
       "    dateFormat YYYY-MM-DD\n",
       "    axisFormat %m-%d-%Y\n",
       "    excludes weekends\n",
       "    Task 1 : done, t1, 2022-01-01, 4w\n",
       "    Task 2 : crit, active, t2, after t1, 2w\n",
       "    Section Major Items\n",
       "    Task 3 : t3, after t2, 4w\n",
       "    Task 4 : t4, after t2, 7w\n",
       "    Celebrate! : milestone, 2022-03-13, 1d`, \r\n",
       "                    g => { renderTarget.innerHTML = g });\r\n",
       "            },\r\n",
       "            (error) => { console.log(error); });\r\n",
       "        }\r\n",
       "\r\n",
       "        if ((typeof(require) !==  typeof(Function)) || (typeof(require.config) !== typeof(Function))) {\r\n",
       "            let require_script = document.createElement('script');\r\n",
       "            require_script.setAttribute('src', 'https://cdnjs.cloudflare.com/ajax/libs/require.js/2.3.6/require.min.js');\r\n",
       "            require_script.setAttribute('type', 'text/javascript');\r\n",
       "            require_script.onload = function() { renderMermish_fdc21db53e43471eab4b558cd2154d9d(); };\r\n",
       "            document.getElementsByTagName('head')[0].appendChild(require_script);\r\n",
       "        }\r\n",
       "        else {\r\n",
       "            renderMermish_fdc21db53e43471eab4b558cd2154d9d();\r\n",
       "        }\r\n",
       "    </script>\r\n",
       "    <div id=\"mermishTarget_fdc21db53e43471eab4b558cd2154d9d\"></div>\r\n",
       "</div>\r\n",
       "<!-- End Mermish Content -->\r\n"
      ]
     },
     "metadata": {},
     "output_type": "display_data"
    }
   ],
   "source": [
    "chart"
   ]
  }
 ],
 "metadata": {
  "kernelspec": {
   "display_name": ".NET (C#)",
   "language": "C#",
   "name": ".net-csharp"
  },
  "language_info": {
   "file_extension": ".cs",
   "mimetype": "text/x-csharp",
   "name": "C#",
   "pygments_lexer": "csharp",
   "version": "9.0"
  },
  "vscode": {
   "interpreter": {
    "hash": "96ea463da8b265c951058de84b9645eca36b660a1a779c7b0eff4941594f7f98"
   }
  }
 },
 "nbformat": 4,
 "nbformat_minor": 2
}
