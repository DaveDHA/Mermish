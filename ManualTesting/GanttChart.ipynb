{
 "cells": [
  {
   "cell_type": "code",
   "execution_count": 1,
   "metadata": {
    "dotnet_interactive": {
     "language": "pwsh"
    },
    "vscode": {
     "languageId": "dotnet-interactive.pwsh"
    }
   },
   "outputs": [
    {
     "name": "stdout",
     "output_type": "stream",
     "text": [
      "MSBuild version 17.3.2+561848881 for .NET\r\n",
      "  Determining projects to restore...\r\n",
      "  Restored C:\\Dev\\Mermish\\Mermish\\Mermish.fsproj (in 91 ms).\r\n",
      "  Restored C:\\Dev\\Mermish\\Mermish.Testing.Fs\\Mermish.Testing.Fs.fsproj (in 194 ms).\r\n",
      "  Successfully created package 'C:\\Dev\\Mermish\\Mermish\\bin\\Debug\\Mermish.0.0.16-dev.nupkg'.\r\n"
     ]
    }
   ],
   "source": [
    "# Clear any older versions of this extension package from your NuGet cache\n",
    "rm ~/.nuget/packages/Mermish -Force -Recurse -ErrorAction Ignore\n",
    "\n",
    "# Pack up the NuGet package. \n",
    "dotnet pack ..\\Mermish.sln /p:PackageVersion=0.0.16-dev --force\n",
    "\n",
    "#Select-String -Path ~/.packagemanagement/nuget/Cache/*.* -pattern mermish/0.0.0-dev\n",
    "#| Select-Object -Property path\n",
    "#| Sort-Object -Property path -Unique\n",
    "#| Remove-Item -Force"
   ]
  },
  {
   "cell_type": "code",
   "execution_count": 7,
   "metadata": {
    "dotnet_interactive": {
     "language": "fsharp"
    },
    "vscode": {
     "languageId": "dotnet-interactive.fsharp"
    }
   },
   "outputs": [
    {
     "data": {
      "text/html": [
       "<div><div><strong>Restore sources</strong><ul><li><span> C:/Dev/Mermish/Mermish/bin/Debug</span></li></ul></div><div></div><div><strong>Installed Packages</strong><ul><li><span>Mermish, 0.0.16-dev</span></li></ul></div></div>"
      ]
     },
     "metadata": {},
     "output_type": "display_data"
    },
    {
     "data": {
      "text/markdown": [
       "Loading extension script from `C:\\Users\\dave\\.nuget\\packages\\mermish\\0.0.16-dev\\interactive-extensions\\dotnet\\extension.dib`"
      ]
     },
     "metadata": {},
     "output_type": "display_data"
    },
    {
     "data": {
      "text/markdown": [
       "Mermish formatter added from extension script."
      ]
     },
     "metadata": {},
     "output_type": "display_data"
    }
   ],
   "source": [
    "// Note: If this fails with \"Access to the path 'Mermish.dll' is denied, just close and re-open the notebook.\n",
    "// This will happen any time you run the first cell (to clear the NuGet cache and rebuild the package) after having run this cell.\n",
    "// This can also happen if you run the first cell while another notebook is open referencing the dev package\n",
    "\n",
    "#i \"nuget: C:/Dev/Mermish/Mermish/bin/Debug\"\n",
    "#r \"nuget: Mermish, 0.0.16-dev\"\n",
    "\n",
    "open Mermish\n"
   ]
  },
  {
   "cell_type": "code",
   "execution_count": 8,
   "metadata": {
    "dotnet_interactive": {
     "language": "fsharp"
    },
    "vscode": {
     "languageId": "dotnet-interactive.fsharp"
    }
   },
   "outputs": [
    {
     "data": {
      "text/html": [
       "\r\n",
       "<!-- Begin Mermish Content -->\r\n",
       "<div style=\"background-color:white\">\r\n",
       "    <script type=\"text/javascript\">\r\n",
       "        renderMermish_300f1d0e06d842568f2ed62c2d1a12cb = () => {\r\n",
       "            (require.config({ 'paths': { 'context': 'mermish', 'mermaidUri' : 'https://cdn.jsdelivr.net/npm/mermaid@9.1.7/dist/mermaid.min' }}) || require)(['mermaidUri'], (mermaid) => {\r\n",
       "                let renderTarget = document.getElementById('mermishTarget_300f1d0e06d842568f2ed62c2d1a12cb');\r\n",
       "                mermaid.mermaidAPI.render( \r\n",
       "                    'mermishScratch_300f1d0e06d842568f2ed62c2d1a12cb', \r\n",
       "                    `gantt\n",
       "    title A Test Chart\n",
       "    dateFormat YYYY-MM-DD\n",
       "    excludes weekends, 2022-01-26, 2022-01-27, 2022-01-28\n",
       "    First Task : done, t1, 2022-01-01, 10d\n",
       "    Follow Up : crit, active, t2, after t1, 15d\n",
       "    Target Date : milestone, d95ca378-c5da-4d42-b411-126b2a32cbbb, after t2, 1d\n",
       "    Section Important\n",
       "    PreReqs : pt1, 2022-01-05, 1w\n",
       "    Next Step 2 : crit, pt2, after pt1, 5d\n",
       "    Next Step 3 : pt3, after pt2, 6d\n",
       "    Next Step 4 : crit, pt4, after pt3, 7d\n",
       "    Next Step 5 : pt5, after pt4, 8d`, \r\n",
       "                    g => { renderTarget.innerHTML = g });\r\n",
       "            },\r\n",
       "            (error) => { console.log(error); });\r\n",
       "        }\r\n",
       "\r\n",
       "        if ((typeof(require) !==  typeof(Function)) || (typeof(require.config) !== typeof(Function))) {\r\n",
       "            let require_script = document.createElement('script');\r\n",
       "            require_script.setAttribute('src', 'https://cdnjs.cloudflare.com/ajax/libs/require.js/2.3.6/require.min.js');\r\n",
       "            require_script.setAttribute('type', 'text/javascript');\r\n",
       "            require_script.onload = function() { renderMermish_300f1d0e06d842568f2ed62c2d1a12cb(); };\r\n",
       "            document.getElementsByTagName('head')[0].appendChild(require_script);\r\n",
       "        }\r\n",
       "        else {\r\n",
       "            renderMermish_300f1d0e06d842568f2ed62c2d1a12cb();\r\n",
       "        }\r\n",
       "    </script>\r\n",
       "    <div id=\"mermishTarget_300f1d0e06d842568f2ed62c2d1a12cb\"></div>\r\n",
       "</div>\r\n",
       "<!-- End Mermish Content -->\r\n"
      ]
     },
     "metadata": {},
     "output_type": "display_data"
    }
   ],
   "source": [
    "let vacationApproved = true\n",
    "\n",
    "let chart = gantt.chart {\n",
    "    gantt.title \"A Test Chart\"\n",
    "    gantt.dateFormat \"YYYY-MM-DD\"\n",
    "    gantt.excludeWeekends\n",
    "    if vacationApproved then\n",
    "        gantt.excludeDate \"2022-01-26\" \n",
    "        gantt.excludeDate \"2022-01-27\" \n",
    "        gantt.excludeDate \"2022-01-28\" \n",
    "    \n",
    "    gantt.task \"First Task\" { id \"t1\" ; startAt \"2022-01-01\" ; durationDays 10 ; isDone }\n",
    "    gantt.task \"Follow Up\" { id \"t2\" ; startAfter \"t1\" ; durationDays 15 ; isCritical ; isActive }\n",
    "    gantt.milestone \"Target Date\" { startAfter \"t2\" }\n",
    "\n",
    "    gantt.section \"Important\" {\n",
    "        let preReq = gantt.task \"PreReqs\" { id \"pt1\" ; startAt \"2022-01-05\" ; durationWeeks 1 }\n",
    "\n",
    "        preReq\n",
    "\n",
    "        for i = 2 to 5 do\n",
    "            gantt.task $\"Next Step {i}\" { \n",
    "                id $\"pt{i}\"\n",
    "                startAfter $\"pt{i-1}\"\n",
    "                durationDays (3 + i)\n",
    "                isCritical (i % 2 = 0)                \n",
    "            }\n",
    "    }\n",
    "}\n",
    "\n",
    "chart"
   ]
  },
  {
   "cell_type": "code",
   "execution_count": 9,
   "metadata": {
    "dotnet_interactive": {
     "language": "fsharp"
    },
    "vscode": {
     "languageId": "dotnet-interactive.fsharp"
    }
   },
   "outputs": [
    {
     "name": "stdout",
     "output_type": "stream",
     "text": [
      "gantt\n",
      "    title A Test Chart\n",
      "    dateFormat YYYY-MM-DD\n",
      "    excludes weekends, 2022-01-26, 2022-01-27, 2022-01-28\n",
      "    First Task : done, t1, 2022-01-01, 10d\n",
      "    Follow Up : crit, active, t2, after t1, 15d\n",
      "    Target Date : milestone, d95ca378-c5da-4d42-b411-126b2a32cbbb, after t2, 1d\n",
      "    Section Important\n",
      "    PreReqs : pt1, 2022-01-05, 1w\n",
      "    Next Step 2 : crit, pt2, after pt1, 5d\n",
      "    Next Step 3 : pt3, after pt2, 6d\n",
      "    Next Step 4 : crit, pt4, after pt3, 7d\n",
      "    Next Step 5 : pt5, after pt4, 8d\r\n"
     ]
    }
   ],
   "source": [
    "printfn \"%A\" chart"
   ]
  },
  {
   "cell_type": "code",
   "execution_count": 15,
   "metadata": {
    "dotnet_interactive": {
     "language": "fsharp"
    },
    "vscode": {
     "languageId": "dotnet-interactive.fsharp"
    }
   },
   "outputs": [
    {
     "data": {
      "text/html": [
       "\r\n",
       "<!-- Begin Mermish Content -->\r\n",
       "<div style=\"background-color:white\">\r\n",
       "    <script type=\"text/javascript\">\r\n",
       "        renderMermish_e02c477b8c3e4d7dae6aabe450b462bd = () => {\r\n",
       "            (require.config({ 'paths': { 'context': 'mermish', 'mermaidUri' : 'https://cdn.jsdelivr.net/npm/mermaid@9.1.7/dist/mermaid.min' }}) || require)(['mermaidUri'], (mermaid) => {\r\n",
       "                let renderTarget = document.getElementById('mermishTarget_e02c477b8c3e4d7dae6aabe450b462bd');\r\n",
       "                mermaid.mermaidAPI.render( \r\n",
       "                    'mermishScratch_e02c477b8c3e4d7dae6aabe450b462bd', \r\n",
       "                    `gantt\n",
       "    title The Plan\n",
       "    dateFormat HH:mm\n",
       "    axisFormat %H:%M\n",
       "    Section Make Life Better\n",
       "    Download Mermish : 73d60035-4df7-4c76-a067-081ea20fa10a, 12:00, 1h\n",
       "    ??? : 22cb2daa-3aa7-4ee1-a6c4-aebf055f2e23, after 73d60035-4df7-4c76-a067-081ea20fa10a, 3h\n",
       "    Profit! : 8fb4ab8d-48d4-4f74-9a66-2c45a0f3071e, after 22cb2daa-3aa7-4ee1-a6c4-aebf055f2e23, 5h`, \r\n",
       "                    g => { renderTarget.innerHTML = g });\r\n",
       "            },\r\n",
       "            (error) => { console.log(error); });\r\n",
       "        }\r\n",
       "\r\n",
       "        if ((typeof(require) !==  typeof(Function)) || (typeof(require.config) !== typeof(Function))) {\r\n",
       "            let require_script = document.createElement('script');\r\n",
       "            require_script.setAttribute('src', 'https://cdnjs.cloudflare.com/ajax/libs/require.js/2.3.6/require.min.js');\r\n",
       "            require_script.setAttribute('type', 'text/javascript');\r\n",
       "            require_script.onload = function() { renderMermish_e02c477b8c3e4d7dae6aabe450b462bd(); };\r\n",
       "            document.getElementsByTagName('head')[0].appendChild(require_script);\r\n",
       "        }\r\n",
       "        else {\r\n",
       "            renderMermish_e02c477b8c3e4d7dae6aabe450b462bd();\r\n",
       "        }\r\n",
       "    </script>\r\n",
       "    <div id=\"mermishTarget_e02c477b8c3e4d7dae6aabe450b462bd\"></div>\r\n",
       "</div>\r\n",
       "<!-- End Mermish Content -->\r\n"
      ]
     },
     "metadata": {},
     "output_type": "display_data"
    }
   ],
   "source": [
    "gantt.chart {\n",
    "    gantt.title \"The Plan\"\n",
    "    gantt.dateFormat \"HH:mm\"\n",
    "    gantt.axisFormat \"%H:%M\"\n",
    "\n",
    "    gantt.section \"Make Life Better\" {\n",
    "        let download = gantt.task \"Download Mermish\" {\n",
    "                    durationHours 1 // minutes only seem to work for milestones, but I get the same results from Mermaid's samples\n",
    "                    startAt \"12:00\"\n",
    "                }\n",
    "\n",
    "        let doStuff = gantt.task \"???\" {\n",
    "            durationHours 3\n",
    "            startAfter download\n",
    "        }\n",
    "\n",
    "        let profit = gantt.task \"Profit!\" {\n",
    "            durationHours 5\n",
    "            startAfter doStuff\n",
    "        }\n",
    "        \n",
    "        yield! [ download ; doStuff ; profit ]        \n",
    "    }\n",
    "}"
   ]
  },
  {
   "cell_type": "code",
   "execution_count": 11,
   "metadata": {
    "dotnet_interactive": {
     "language": "fsharp"
    },
    "vscode": {
     "languageId": "dotnet-interactive.fsharp"
    }
   },
   "outputs": [
    {
     "data": {
      "text/html": [
       "\r\n",
       "<!-- Begin Mermish Content -->\r\n",
       "<div style=\"background-color:white\">\r\n",
       "    <script type=\"text/javascript\">\r\n",
       "        renderMermish_9009223e13634f10a3ac237f6cb52571 = () => {\r\n",
       "            (require.config({ 'paths': { 'context': 'mermish', 'mermaidUri' : 'https://cdn.jsdelivr.net/npm/mermaid@9.1.7/dist/mermaid.min' }}) || require)(['mermaidUri'], (mermaid) => {\r\n",
       "                let renderTarget = document.getElementById('mermishTarget_9009223e13634f10a3ac237f6cb52571');\r\n",
       "                mermaid.mermaidAPI.render( \r\n",
       "                    'mermishScratch_9009223e13634f10a3ac237f6cb52571', \r\n",
       "                    `gantt\n",
       "    apple : a, 2017-07-20, 1w\n",
       "    banana : crit, b, 2017-07-23, 1d\n",
       "    cherry : active, c, after b a, 1d`, \r\n",
       "                    g => { renderTarget.innerHTML = g });\r\n",
       "            },\r\n",
       "            (error) => { console.log(error); });\r\n",
       "        }\r\n",
       "\r\n",
       "        if ((typeof(require) !==  typeof(Function)) || (typeof(require.config) !== typeof(Function))) {\r\n",
       "            let require_script = document.createElement('script');\r\n",
       "            require_script.setAttribute('src', 'https://cdnjs.cloudflare.com/ajax/libs/require.js/2.3.6/require.min.js');\r\n",
       "            require_script.setAttribute('type', 'text/javascript');\r\n",
       "            require_script.onload = function() { renderMermish_9009223e13634f10a3ac237f6cb52571(); };\r\n",
       "            document.getElementsByTagName('head')[0].appendChild(require_script);\r\n",
       "        }\r\n",
       "        else {\r\n",
       "            renderMermish_9009223e13634f10a3ac237f6cb52571();\r\n",
       "        }\r\n",
       "    </script>\r\n",
       "    <div id=\"mermishTarget_9009223e13634f10a3ac237f6cb52571\"></div>\r\n",
       "</div>\r\n",
       "<!-- End Mermish Content -->\r\n"
      ]
     },
     "metadata": {},
     "output_type": "display_data"
    }
   ],
   "source": [
    "gantt.chart {\n",
    "    gantt.task \"apple\" {               id \"a\" ; startAt \"2017-07-20\" ; durationWeeks 1 }\n",
    "    gantt.task \"banana\" { isCritical ; id \"b\" ; startAt \"2017-07-23\" ; durationDays 1 }\n",
    "    gantt.task \"cherry\" { isActive   ; id \"c\" ; startAfter \"b a\"     ; durationDays 1 }\n",
    "}\n"
   ]
  }
 ],
 "metadata": {
  "kernelspec": {
   "display_name": ".NET (C#)",
   "language": "C#",
   "name": ".net-csharp"
  },
  "language_info": {
   "file_extension": ".cs",
   "mimetype": "text/x-csharp",
   "name": "C#",
   "pygments_lexer": "csharp",
   "version": "9.0"
  },
  "vscode": {
   "interpreter": {
    "hash": "96ea463da8b265c951058de84b9645eca36b660a1a779c7b0eff4941594f7f98"
   }
  }
 },
 "nbformat": 4,
 "nbformat_minor": 2
}
