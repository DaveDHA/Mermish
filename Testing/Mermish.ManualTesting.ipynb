{
 "cells": [
  {
   "cell_type": "code",
   "execution_count": 1,
   "metadata": {
    "dotnet_interactive": {
     "language": "fsharp"
    },
    "vscode": {
     "languageId": "dotnet-interactive.fsharp"
    }
   },
   "outputs": [
    {
     "data": {
      "text/html": [
       "<div><div><strong>Restore sources</strong><ul><li><span> C:/Dev/Mermish/Mermish/bin/Debug</span></li></ul></div><div></div><div><strong>Installed Packages</strong><ul><li><span>Mermish, 0.0.0-alpha</span></li></ul></div></div>"
      ]
     },
     "metadata": {},
     "output_type": "display_data"
    }
   ],
   "source": [
    "#i \"nuget: C:/Dev/Mermish/Mermish/bin/Debug\"\n",
    "#r \"nuget: Mermish, 0.0.0-alpha\"\n",
    "\n",
    "open Mermish\n"
   ]
  },
  {
   "cell_type": "code",
   "execution_count": null,
   "metadata": {
    "dotnet_interactive": {
     "language": "fsharp"
    },
    "vscode": {
     "languageId": "dotnet-interactive.fsharp"
    }
   },
   "outputs": [],
   "source": [
    "//Mermish.Interactive.Formatting.RegisterFormatter()\n",
    "\n",
    "open Microsoft.DotNet.Interactive\n",
    "\n",
    "let ke = Mermish.Interactive.KernelExtension() :> IKernelExtension\n",
    "\n",
    "ke.OnLoadAsync(Kernel.Current)\n",
    "|> Async.AwaitTask\n",
    "|> Async.RunSynchronously"
   ]
  },
  {
   "cell_type": "code",
   "execution_count": 2,
   "metadata": {
    "dotnet_interactive": {
     "language": "fsharp"
    },
    "vscode": {
     "languageId": "dotnet-interactive.fsharp"
    }
   },
   "outputs": [
    {
     "ename": "Error",
     "evalue": "System.ArgumentException: The input sequence was empty. (Parameter 'source')\r\n   at Microsoft.FSharp.Collections.SeqModule.Head[T](IEnumerable`1 source) in D:\\a\\_work\\1\\s\\src\\FSharp.Core\\seq.fs:line 1638\r\n   at <StartupCode$FSI_0006>.$FSI_0006.main@()",
     "output_type": "error",
     "traceback": [
      "System.ArgumentException: The input sequence was empty. (Parameter 'source')\r\n",
      "   at Microsoft.FSharp.Collections.SeqModule.Head[T](IEnumerable`1 source) in D:\\a\\_work\\1\\s\\src\\FSharp.Core\\seq.fs:line 1638\r\n",
      "   at <StartupCode$FSI_0006>.$FSI_0006.main@()"
     ]
    }
   ],
   "source": [
    "open Microsoft.DotNet.Interactive.Formatting\n",
    "\n",
    "Formatter.RegisteredFormatters()\n",
    "|> Seq.where (fun f -> f.Type = typeof<IMermaidChart>)\n",
    "|> Seq.head\n"
   ]
  },
  {
   "cell_type": "code",
   "execution_count": null,
   "metadata": {
    "dotnet_interactive": {
     "language": "fsharp"
    },
    "vscode": {
     "languageId": "dotnet-interactive.fsharp"
    }
   },
   "outputs": [],
   "source": [
    "let pieChart = \n",
    "    Mermaid.PieChart\n",
    "    |> PieChart.WithTitle \"Testing\"\n",
    "    |> PieChart.AppendData [ \"first\", 200 ; \"second\", 300 ]\n",
    "    |> PieChart.ShowData\n",
    "    |> PieChart.AppendData [ \"third\", 100 ]\n",
    "\n",
    "pieChart"
   ]
  },
  {
   "cell_type": "code",
   "execution_count": null,
   "metadata": {
    "dotnet_interactive": {
     "language": "fsharp"
    },
    "vscode": {
     "languageId": "dotnet-interactive.fsharp"
    }
   },
   "outputs": [],
   "source": [
    "Mermaid.PieChart\n",
    "|> PieChart.AppendData [ \n",
    "        \"monkeys\", 10\n",
    "        \"bananas\", 40\n",
    "    ]"
   ]
  }
 ],
 "metadata": {
  "kernelspec": {
   "display_name": ".NET (C#)",
   "language": "C#",
   "name": ".net-csharp"
  },
  "language_info": {
   "file_extension": ".cs",
   "mimetype": "text/x-csharp",
   "name": "C#",
   "pygments_lexer": "csharp",
   "version": "9.0"
  },
  "vscode": {
   "interpreter": {
    "hash": "96ea463da8b265c951058de84b9645eca36b660a1a779c7b0eff4941594f7f98"
   }
  }
 },
 "nbformat": 4,
 "nbformat_minor": 2
}
