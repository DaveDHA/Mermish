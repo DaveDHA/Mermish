{
 "cells": [
  {
   "cell_type": "code",
   "execution_count": 22,
   "metadata": {
    "dotnet_interactive": {
     "language": "fsharp"
    },
    "vscode": {
     "languageId": "dotnet-interactive.fsharp"
    }
   },
   "outputs": [],
   "source": [
    "#r \"..\\\\Mermish\\\\bin\\\\Debug\\\\netstandard2.1\\\\Mermish.dll\"\n",
    "\n",
    "open Mermish\n",
    "open Mermish.Interactive\n"
   ]
  },
  {
   "cell_type": "code",
   "execution_count": 23,
   "metadata": {
    "dotnet_interactive": {
     "language": "fsharp"
    },
    "vscode": {
     "languageId": "dotnet-interactive.fsharp"
    }
   },
   "outputs": [],
   "source": [
    "open Microsoft.DotNet.Interactive\n",
    "open Microsoft.DotNet.Interactive.Formatting\n",
    "open System.IO\n",
    "\n",
    "module Formatting = \n",
    "\n",
    "    let html = \"\"\"\n",
    "<!-- Begin Mermish Content -->\n",
    "<div style=\"background-color:white\">\n",
    "    <script type=\"text/javascript\">\n",
    "        renderMermish_[%mermish_guid%] = () => {\n",
    "            (require.config({ 'paths': { 'context': 'mermish', 'mermaidUri' : 'https://cdn.jsdelivr.net/npm/mermaid@9.1.3/dist/mermaid.min' }}) || require)(['mermaidUri'], (mermaid) => {\n",
    "                let renderTarget = document.getElementById('mermishTarget_[%mermish_guid%]');\n",
    "                mermaid.mermaidAPI.render( \n",
    "                    'mermishScratch_[%mermish_guid%]', \n",
    "                    `[%mermish_syntax%]`, \n",
    "                    g => { renderTarget.innerHTML = g });\n",
    "            },\n",
    "            (error) => { console.log(error); });\n",
    "        }\n",
    "\n",
    "        if ((typeof(require) !==  typeof(Function)) || (typeof(require.config) !== typeof(Function))) {\n",
    "            let require_script = document.createElement('script');\n",
    "            require_script.setAttribute('src', 'https://cdnjs.cloudflare.com/ajax/libs/require.js/2.3.6/require.min.js');\n",
    "            require_script.setAttribute('type', 'text/javascript');\n",
    "            require_script.onload = function() { renderMermish_[%mermish_guid%](); };\n",
    "            document.getElementsByTagName('head')[0].appendChild(require_script);\n",
    "        }\n",
    "        else {\n",
    "            renderMermish_[%mermish_guid%]();\n",
    "        }\n",
    "    </script>\n",
    "    <div id=\"mermishTarget_[%mermish_guid%]\"></div>\n",
    "</div>\n",
    "<!-- End Mermish Content -->\n",
    "\"\"\"\n",
    "\n",
    "\n",
    "    let format chart (writer : TextWriter) =\n",
    "        html.Replace(\"[%mermish_guid%]\", Guid.NewGuid().ToString().Replace(\"-\",\"\"))\n",
    "            .Replace(\"[%mermish_syntax%]\", (Mermaid.ToSyntax chart))\n",
    "        |> writer.Write\n",
    "\n",
    "\n",
    "Formatter.Register<IMermaidChart>(Action<_,_> Formatting.format, \"text/html\")\n"
   ]
  },
  {
   "cell_type": "code",
   "execution_count": 24,
   "metadata": {
    "dotnet_interactive": {
     "language": "fsharp"
    },
    "vscode": {
     "languageId": "dotnet-interactive.fsharp"
    }
   },
   "outputs": [
    {
     "data": {
      "text/html": [
       "<table><thead><tr><th>MimeType</th><th>Type</th></tr></thead><tbody><tr><td><div class=\"dni-plaintext\">text/html</div></td><td><div class=\"dni-plaintext\">Mermish.IMermaidChart</div></td></tr></tbody></table>"
      ]
     },
     "metadata": {},
     "output_type": "display_data"
    }
   ],
   "source": [
    "Formatter.RegisteredFormatters()\n",
    "|> Seq.where (fun f -> f.Type = typeof<IMermaidChart>)\n",
    "|> Seq.head\n"
   ]
  },
  {
   "cell_type": "code",
   "execution_count": 25,
   "metadata": {
    "dotnet_interactive": {
     "language": "fsharp"
    },
    "vscode": {
     "languageId": "dotnet-interactive.fsharp"
    }
   },
   "outputs": [
    {
     "data": {
      "text/html": [
       "\r\n",
       "<!-- Begin Mermish Content -->\r\n",
       "<div style=\"background-color:white\">\r\n",
       "    <script type=\"text/javascript\">\r\n",
       "        renderMermish_330061b41bee4aeaa08545910090a423 = () => {\r\n",
       "            (require.config({ 'paths': { 'context': 'mermish', 'mermaidUri' : 'https://cdn.jsdelivr.net/npm/mermaid@9.1.3/dist/mermaid.min' }}) || require)(['mermaidUri'], (mermaid) => {\r\n",
       "                let renderTarget = document.getElementById('mermishTarget_330061b41bee4aeaa08545910090a423');\r\n",
       "                mermaid.mermaidAPI.render( \r\n",
       "                    'mermishScratch_330061b41bee4aeaa08545910090a423', \r\n",
       "                    `pie showData\n",
       "    title Testing\n",
       "    \"first\" : 200\n",
       "    \"second\" : 300\n",
       "    \"third\" : 100`, \r\n",
       "                    g => { renderTarget.innerHTML = g });\r\n",
       "            },\r\n",
       "            (error) => { console.log(error); });\r\n",
       "        }\r\n",
       "\r\n",
       "        if ((typeof(require) !==  typeof(Function)) || (typeof(require.config) !== typeof(Function))) {\r\n",
       "            let require_script = document.createElement('script');\r\n",
       "            require_script.setAttribute('src', 'https://cdnjs.cloudflare.com/ajax/libs/require.js/2.3.6/require.min.js');\r\n",
       "            require_script.setAttribute('type', 'text/javascript');\r\n",
       "            require_script.onload = function() { renderMermish_330061b41bee4aeaa08545910090a423(); };\r\n",
       "            document.getElementsByTagName('head')[0].appendChild(require_script);\r\n",
       "        }\r\n",
       "        else {\r\n",
       "            renderMermish_330061b41bee4aeaa08545910090a423();\r\n",
       "        }\r\n",
       "    </script>\r\n",
       "    <div id=\"mermishTarget_330061b41bee4aeaa08545910090a423\"></div>\r\n",
       "</div>\r\n",
       "<!-- End Mermish Content -->\r\n"
      ]
     },
     "metadata": {},
     "output_type": "display_data"
    }
   ],
   "source": [
    "let pieChart = \n",
    "    Mermaid.PieChart\n",
    "    |> PieChart.WithTitle \"Testing\"\n",
    "    |> PieChart.AppendData [ \"first\", 200 ; \"second\", 300 ]\n",
    "    |> PieChart.ShowData\n",
    "    |> PieChart.AppendData [ \"third\", 100 ]\n",
    "\n",
    "pieChart"
   ]
  }
 ],
 "metadata": {
  "kernelspec": {
   "display_name": ".NET (C#)",
   "language": "C#",
   "name": ".net-csharp"
  },
  "language_info": {
   "file_extension": ".cs",
   "mimetype": "text/x-csharp",
   "name": "C#",
   "pygments_lexer": "csharp",
   "version": "9.0"
  },
  "vscode": {
   "interpreter": {
    "hash": "96ea463da8b265c951058de84b9645eca36b660a1a779c7b0eff4941594f7f98"
   }
  }
 },
 "nbformat": 4,
 "nbformat_minor": 2
}
